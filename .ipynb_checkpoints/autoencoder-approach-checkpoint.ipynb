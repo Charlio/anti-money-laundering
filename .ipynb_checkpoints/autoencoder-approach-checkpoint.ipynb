{
 "cells": [
  {
   "cell_type": "markdown",
   "metadata": {},
   "source": [
    "# Data Reading"
   ]
  },
  {
   "cell_type": "code",
   "execution_count": 1,
   "metadata": {
    "collapsed": true
   },
   "outputs": [],
   "source": [
    "import pandas as pd\n",
    "\n",
    "account_filename = 'data/accountData.csv'\n",
    "customer_filename = 'data/customerData.csv'\n",
    "transaction_filename = 'data/transactionData.csv'\n",
    "labels_filename = 'data/labelledData_15.csv'"
   ]
  },
  {
   "cell_type": "code",
   "execution_count": 2,
   "metadata": {
    "collapsed": true
   },
   "outputs": [],
   "source": [
    "accounts = pd.read_csv(account_filename)"
   ]
  },
  {
   "cell_type": "code",
   "execution_count": 3,
   "metadata": {
    "collapsed": true
   },
   "outputs": [],
   "source": [
    "customers = pd.read_csv(customer_filename)"
   ]
  },
  {
   "cell_type": "code",
   "execution_count": 5,
   "metadata": {
    "collapsed": true
   },
   "outputs": [],
   "source": [
    "transactions = pd.read_csv(transaction_filename)"
   ]
  },
  {
   "cell_type": "code",
   "execution_count": 6,
   "metadata": {
    "collapsed": true
   },
   "outputs": [],
   "source": [
    "labels = pd.read_csv(labels_filename)"
   ]
  },
  {
   "cell_type": "markdown",
   "metadata": {},
   "source": [
    "# Data Preprocessing"
   ]
  },
  {
   "cell_type": "code",
   "execution_count": 4,
   "metadata": {},
   "outputs": [
    {
     "name": "stderr",
     "output_type": "stream",
     "text": [
      "Using TensorFlow backend.\n"
     ]
    }
   ],
   "source": [
    "import pandas as pd\n",
    "import numpy as np\n",
    "import pickle\n",
    "import matplotlib.pyplot as plt\n",
    "from scipy import stats\n",
    "import tensorflow as tf\n",
    "import seaborn as sns\n",
    "from pylab import rcParams\n",
    "from sklearn.model_selection import train_test_split\n",
    "from keras.models import Model, load_model\n",
    "from keras.layers import Input, Dense\n",
    "from keras.callbacks import ModelCheckpoint, TensorBoard\n",
    "from keras import regularizers\n",
    "%matplotlib inline\n",
    "sns.set(style='whitegrid', palette='muted', font_scale=1.5)\n",
    "rcParams['figure.figsize'] = 14, 8"
   ]
  },
  {
   "cell_type": "code",
   "execution_count": 7,
   "metadata": {},
   "outputs": [
    {
     "data": {
      "text/html": [
       "<div>\n",
       "<style>\n",
       "    .dataframe thead tr:only-child th {\n",
       "        text-align: right;\n",
       "    }\n",
       "\n",
       "    .dataframe thead th {\n",
       "        text-align: left;\n",
       "    }\n",
       "\n",
       "    .dataframe tbody tr th {\n",
       "        vertical-align: top;\n",
       "    }\n",
       "</style>\n",
       "<table border=\"1\" class=\"dataframe\">\n",
       "  <thead>\n",
       "    <tr style=\"text-align: right;\">\n",
       "      <th></th>\n",
       "      <th>TRANSACTION_ID</th>\n",
       "      <th>ORIGIN_CUSTOMER_ID</th>\n",
       "      <th>ORIGIN_ACCOUNT_ID</th>\n",
       "      <th>TRANSACTION_DATE_TIME</th>\n",
       "      <th>TRANSACTION_TYPE</th>\n",
       "      <th>TRANSACTION_SOURCE</th>\n",
       "      <th>TRANSACTION_AMOUNT</th>\n",
       "      <th>BENEFICIARY_CUSTOMER_ID</th>\n",
       "      <th>BENEFICIARY_ACCOUNT_ID</th>\n",
       "    </tr>\n",
       "  </thead>\n",
       "  <tbody>\n",
       "    <tr>\n",
       "      <th>0</th>\n",
       "      <td>0</td>\n",
       "      <td>202950.0</td>\n",
       "      <td>431495.0</td>\n",
       "      <td>2017-01-10 19:21:37</td>\n",
       "      <td>charge</td>\n",
       "      <td>online</td>\n",
       "      <td>508.93</td>\n",
       "      <td>NaN</td>\n",
       "      <td>NaN</td>\n",
       "    </tr>\n",
       "    <tr>\n",
       "      <th>1</th>\n",
       "      <td>1</td>\n",
       "      <td>167227.0</td>\n",
       "      <td>355712.0</td>\n",
       "      <td>2017-01-05 12:56:57</td>\n",
       "      <td>withdrawal</td>\n",
       "      <td>atm</td>\n",
       "      <td>20.04</td>\n",
       "      <td>NaN</td>\n",
       "      <td>NaN</td>\n",
       "    </tr>\n",
       "    <tr>\n",
       "      <th>2</th>\n",
       "      <td>2</td>\n",
       "      <td>50445.0</td>\n",
       "      <td>107161.0</td>\n",
       "      <td>2017-01-05 21:08:46</td>\n",
       "      <td>charge</td>\n",
       "      <td>online</td>\n",
       "      <td>79.50</td>\n",
       "      <td>NaN</td>\n",
       "      <td>NaN</td>\n",
       "    </tr>\n",
       "    <tr>\n",
       "      <th>3</th>\n",
       "      <td>3</td>\n",
       "      <td>102321.0</td>\n",
       "      <td>217511.0</td>\n",
       "      <td>2017-01-09 02:30:10</td>\n",
       "      <td>electronic transfer</td>\n",
       "      <td>ach debit</td>\n",
       "      <td>138.39</td>\n",
       "      <td>1083.0</td>\n",
       "      <td>2287.0</td>\n",
       "    </tr>\n",
       "    <tr>\n",
       "      <th>4</th>\n",
       "      <td>4</td>\n",
       "      <td>219263.0</td>\n",
       "      <td>466263.0</td>\n",
       "      <td>2017-01-26 04:12:36</td>\n",
       "      <td>pos</td>\n",
       "      <td>merchant location</td>\n",
       "      <td>695.75</td>\n",
       "      <td>NaN</td>\n",
       "      <td>NaN</td>\n",
       "    </tr>\n",
       "  </tbody>\n",
       "</table>\n",
       "</div>"
      ],
      "text/plain": [
       "   TRANSACTION_ID  ORIGIN_CUSTOMER_ID  ORIGIN_ACCOUNT_ID  \\\n",
       "0               0            202950.0           431495.0   \n",
       "1               1            167227.0           355712.0   \n",
       "2               2             50445.0           107161.0   \n",
       "3               3            102321.0           217511.0   \n",
       "4               4            219263.0           466263.0   \n",
       "\n",
       "  TRANSACTION_DATE_TIME     TRANSACTION_TYPE TRANSACTION_SOURCE  \\\n",
       "0   2017-01-10 19:21:37               charge             online   \n",
       "1   2017-01-05 12:56:57           withdrawal                atm   \n",
       "2   2017-01-05 21:08:46               charge             online   \n",
       "3   2017-01-09 02:30:10  electronic transfer          ach debit   \n",
       "4   2017-01-26 04:12:36                  pos  merchant location   \n",
       "\n",
       "   TRANSACTION_AMOUNT  BENEFICIARY_CUSTOMER_ID  BENEFICIARY_ACCOUNT_ID  \n",
       "0              508.93                      NaN                     NaN  \n",
       "1               20.04                      NaN                     NaN  \n",
       "2               79.50                      NaN                     NaN  \n",
       "3              138.39                   1083.0                  2287.0  \n",
       "4              695.75                      NaN                     NaN  "
      ]
     },
     "execution_count": 7,
     "metadata": {},
     "output_type": "execute_result"
    }
   ],
   "source": [
    "transactions.head()"
   ]
  },
  {
   "cell_type": "code",
   "execution_count": 10,
   "metadata": {},
   "outputs": [],
   "source": [
    "# delete transaction id, transaction date time, beneficiary customer id, beneficiary account id\n",
    "del transactions['TRANSACTION_ID']\n",
    "del transactions['TRANSACTION_DATE_TIME']\n",
    "del transactions['BENEFICIARY_CUSTOMER_ID'] \n",
    "del transactions['BENEFICIARY_ACCOUNT_ID']"
   ]
  },
  {
   "cell_type": "code",
   "execution_count": 24,
   "metadata": {
    "collapsed": true
   },
   "outputs": [],
   "source": [
    "transactions.drop('ORIGIN_CUSTOMER_ID', axis = 1, inplace=True)\n",
    "transactions.drop('ORIGIN_ACCOUNT_ID', axis = 1, inplace=True)"
   ]
  },
  {
   "cell_type": "code",
   "execution_count": 18,
   "metadata": {},
   "outputs": [],
   "source": [
    "transactions['TRANSACTION_SOURCE'] = transactions['TRANSACTION_SOURCE'].astype('category')\n",
    "transactions['TRANSACTION_TYPE'] = transactions['TRANSACTION_TYPE'].astype('category')"
   ]
  },
  {
   "cell_type": "code",
   "execution_count": 21,
   "metadata": {
    "collapsed": true
   },
   "outputs": [],
   "source": [
    "# one-shot transfer of transaction type, transaction source\n",
    "transactions = pd.get_dummies(transactions)"
   ]
  },
  {
   "cell_type": "code",
   "execution_count": 37,
   "metadata": {},
   "outputs": [
    {
     "data": {
      "text/plain": [
       "15"
      ]
     },
     "execution_count": 37,
     "metadata": {},
     "output_type": "execute_result"
    }
   ],
   "source": [
    "# normalize origin customer id, origin account id, transaction amount\n",
    "len(transactions.columns)"
   ]
  },
  {
   "cell_type": "code",
   "execution_count": 34,
   "metadata": {},
   "outputs": [],
   "source": [
    "from sklearn.preprocessing import MinMaxScaler\n",
    "scaler = MinMaxScaler() # default=(0, 1)\n",
    "transactions[['TRANSACTION_AMOUNT']] = scaler.fit_transform(transactions[['TRANSACTION_AMOUNT']])"
   ]
  },
  {
   "cell_type": "code",
   "execution_count": 36,
   "metadata": {},
   "outputs": [
    {
     "data": {
      "text/plain": [
       "count    1.577224e+07\n",
       "mean     5.231189e-04\n",
       "std      3.667259e-03\n",
       "min      0.000000e+00\n",
       "25%      1.901000e-06\n",
       "50%      5.479001e-06\n",
       "75%      6.926101e-05\n",
       "max      1.000000e+00\n",
       "Name: TRANSACTION_AMOUNT, dtype: float64"
      ]
     },
     "execution_count": 36,
     "metadata": {},
     "output_type": "execute_result"
    }
   ],
   "source": [
    "transactions['TRANSACTION_AMOUNT'].describe()"
   ]
  },
  {
   "cell_type": "markdown",
   "metadata": {},
   "source": [
    "# Autoencoder"
   ]
  },
  {
   "cell_type": "code",
   "execution_count": 48,
   "metadata": {
    "collapsed": true
   },
   "outputs": [],
   "source": [
    "input_layer = Input(shape=(15, ))\n",
    "encoder = Dense(13, activation=\"tanh\", \n",
    "                activity_regularizer=regularizers.l1(10e-5))(input_layer)\n",
    "encoder = Dense(11, activation=\"tanh\", \n",
    "                activity_regularizer=regularizers.l1(10e-5))(encoder)\n",
    "encoder = Dense(9, activation=\"tanh\", \n",
    "                activity_regularizer=regularizers.l1(10e-5))(encoder)\n",
    "encoder = Dense(7, activation=\"tanh\", \n",
    "                activity_regularizer=regularizers.l1(10e-5))(encoder)\n",
    "encoder = Dense(5, activation=\"tanh\", \n",
    "                activity_regularizer=regularizers.l1(10e-5))(encoder)\n",
    "encoder = Dense(4, activation=\"tanh\", \n",
    "                activity_regularizer=regularizers.l1(10e-5))(encoder)\n",
    "encoder = Dense(3, activation=\"tanh\", \n",
    "                activity_regularizer=regularizers.l1(10e-5))(encoder)\n",
    "encoder = Dense(2, activation=\"relu\")(encoder)\n",
    "\n",
    "decoder = Dense(3, activation='tanh')(encoder)\n",
    "decoder = Dense(4, activation='tanh')(decoder)\n",
    "decoder = Dense(5, activation='tanh')(decoder)\n",
    "decoder = Dense(7, activation='tanh')(decoder)\n",
    "decoder = Dense(9, activation='tanh')(decoder)\n",
    "decoder = Dense(11, activation='tanh')(decoder)\n",
    "decoder = Dense(13, activation='tanh')(decoder)\n",
    "decoder = Dense(15, activation='relu')(decoder)\n",
    "\n",
    "autoencoder = Model(inputs=input_layer, outputs=decoder)"
   ]
  },
  {
   "cell_type": "code",
   "execution_count": 49,
   "metadata": {
    "collapsed": true
   },
   "outputs": [],
   "source": [
    "from keras import optimizers\n",
    "adam = optimizers.Adam(lr=1, beta_1=0.9, beta_2=0.999, epsilon=1e-08, decay=0.0)\n",
    "\n",
    "autoencoder.compile(optimizer=adam, loss='mean_squared_logarithmic_error')"
   ]
  },
  {
   "cell_type": "code",
   "execution_count": 50,
   "metadata": {
    "collapsed": true
   },
   "outputs": [],
   "source": [
    "X_train = transactions.values"
   ]
  },
  {
   "cell_type": "code",
   "execution_count": null,
   "metadata": {},
   "outputs": [],
   "source": [
    "nb_epoch = 1\n",
    "batch_size = 256\n",
    "checkpointer = ModelCheckpoint(filepath=\"model.h5\",\n",
    "                               verbose=0,\n",
    "                               save_best_only=True)\n",
    "tensorboard = TensorBoard(log_dir='./logs',\n",
    "                          histogram_freq=0,\n",
    "                          write_graph=True,\n",
    "                          write_images=True)\n",
    "history = autoencoder.fit(X_train, X_train,\n",
    "                    epochs=nb_epoch,\n",
    "                    batch_size=batch_size,\n",
    "                    shuffle=True,\n",
    "                    validation_split=0.2,\n",
    "                    verbose=1,\n",
    "                    callbacks=[checkpointer, tensorboard]).history"
   ]
  },
  {
   "cell_type": "code",
   "execution_count": null,
   "metadata": {
    "collapsed": true
   },
   "outputs": [],
   "source": []
  }
 ],
 "metadata": {
  "kernelspec": {
   "display_name": "Python 3",
   "language": "python",
   "name": "python3"
  },
  "language_info": {
   "codemirror_mode": {
    "name": "ipython",
    "version": 3
   },
   "file_extension": ".py",
   "mimetype": "text/x-python",
   "name": "python",
   "nbconvert_exporter": "python",
   "pygments_lexer": "ipython3",
   "version": "3.6.3"
  }
 },
 "nbformat": 4,
 "nbformat_minor": 2
}
