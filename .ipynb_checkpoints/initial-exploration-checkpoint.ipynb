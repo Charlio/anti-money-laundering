{
 "cells": [
  {
   "cell_type": "markdown",
   "metadata": {},
   "source": [
    "# Data Reading"
   ]
  },
  {
   "cell_type": "code",
   "execution_count": 1,
   "metadata": {},
   "outputs": [],
   "source": [
    "import unicodecsv\n",
    "\n",
    "account_filename = 'data/accountData.csv'\n",
    "customer_filename = 'data/customerData.csv'\n",
    "transaction_filename = 'data/transactionData.csv'"
   ]
  },
  {
   "cell_type": "code",
   "execution_count": 2,
   "metadata": {
    "collapsed": true
   },
   "outputs": [],
   "source": [
    "with open(account_filename, 'rb') as f:\n",
    "    reader = unicodecsv.DictReader(f)\n",
    "    accounts = list(reader)"
   ]
  },
  {
   "cell_type": "code",
   "execution_count": 3,
   "metadata": {},
   "outputs": [],
   "source": [
    "with open(customer_filename, 'rb') as f:\n",
    "    reader = unicodecsv.DictReader(f)\n",
    "    customers = list(reader)"
   ]
  },
  {
   "cell_type": "code",
   "execution_count": null,
   "metadata": {
    "collapsed": true
   },
   "outputs": [],
   "source": [
    "with open(transaction_filename, 'rb') as f:\n",
    "    reader = unicodecsv.DictReader(f)\n",
    "    transactions = list(reader) "
   ]
  },
  {
   "cell_type": "markdown",
   "metadata": {},
   "source": [
    "# Data Exploration"
   ]
  },
  {
   "cell_type": "code",
   "execution_count": 4,
   "metadata": {},
   "outputs": [
    {
     "name": "stdout",
     "output_type": "stream",
     "text": [
      "type of accounts:  <class 'list'>\n",
      "number of accounts:  531791\n"
     ]
    }
   ],
   "source": [
    "print(\"type of accounts: \", type(accounts))\n",
    "print(\"number of accounts: \", len(accounts))\n",
    "\n",
    "from datetime import datetime as dt\n",
    "\n",
    "def parse_date(date):\n",
    "    if date == '':\n",
    "        return None\n",
    "    else:\n",
    "        return dt.strptime(date, '%Y-%m-%d %H:%M:%S')\n",
    "\n",
    "for account in accounts:\n",
    "    account['ACCOUNT_ID'] = int(account['ACCOUNT_ID'])\n",
    "    account['CUSTOMER_ID'] = int(account['CUSTOMER_ID'])\n",
    "    account['ACCOUNT_DATE_TIME'] = parse_date(account['ACCOUNT_DATE_TIME'])\n",
    "    account['ACCOUNT_BALANCE'] = float(account['ACCOUNT_BALANCE'])"
   ]
  },
  {
   "cell_type": "code",
   "execution_count": 5,
   "metadata": {},
   "outputs": [
    {
     "data": {
      "text/plain": [
       "OrderedDict([('ACCOUNT_ID', 0),\n",
       "             ('CUSTOMER_ID', 0),\n",
       "             ('ACCOUNT_DATE_TIME', datetime.datetime(2016, 5, 2, 3, 4, 27)),\n",
       "             ('ACCOUNT_TYPE', 'basic checkings account'),\n",
       "             ('ACCOUNT_BALANCE', 2940588.03)])"
      ]
     },
     "execution_count": 5,
     "metadata": {},
     "output_type": "execute_result"
    }
   ],
   "source": [
    "accounts[0]"
   ]
  },
  {
   "cell_type": "code",
   "execution_count": 6,
   "metadata": {},
   "outputs": [
    {
     "name": "stdout",
     "output_type": "stream",
     "text": [
      "Total number of unique customers in accounts:  250000\n"
     ]
    }
   ],
   "source": [
    "print(\"Total number of unique customers in accounts: \", len(set([acc['CUSTOMER_ID'] for acc in accounts])))"
   ]
  },
  {
   "cell_type": "code",
   "execution_count": 8,
   "metadata": {},
   "outputs": [
    {
     "name": "stdout",
     "output_type": "stream",
     "text": [
      "type of customers:  <class 'list'>\n",
      "number of customers:  250000\n"
     ]
    }
   ],
   "source": [
    "print(\"type of customers: \", type(customers))\n",
    "print(\"number of customers: \", len(customers))\n",
    "\n",
    "for customer in customers:\n",
    "    customer['CUSTOMER_ID'] = int(customer['CUSTOMER_ID'])\n",
    "    customer['CUSTOMER_RISK_SCORE'] = float(customer['CUSTOMER_RISK_SCORE'])"
   ]
  },
  {
   "cell_type": "code",
   "execution_count": 9,
   "metadata": {},
   "outputs": [
    {
     "data": {
      "text/plain": [
       "OrderedDict([('CUSTOMER_ID', 0),\n",
       "             ('CUSTOMER_TYPE', 'Individual'),\n",
       "             ('COUNTRY', 'US'),\n",
       "             ('CUSTOMER_RISK_SCORE', 0.52)])"
      ]
     },
     "execution_count": 9,
     "metadata": {},
     "output_type": "execute_result"
    }
   ],
   "source": [
    "customers[0]"
   ]
  },
  {
   "cell_type": "markdown",
   "metadata": {},
   "source": [
    "# Data Visualization"
   ]
  },
  {
   "cell_type": "markdown",
   "metadata": {},
   "source": [
    "# Data Preprocessing"
   ]
  },
  {
   "cell_type": "markdown",
   "metadata": {},
   "source": [
    "## pandas data manipulation"
   ]
  },
  {
   "cell_type": "markdown",
   "metadata": {},
   "source": [
    "### statisitcs summary"
   ]
  },
  {
   "cell_type": "markdown",
   "metadata": {},
   "source": [
    "### grouping"
   ]
  },
  {
   "cell_type": "markdown",
   "metadata": {},
   "source": [
    "### Combining datasets"
   ]
  },
  {
   "cell_type": "code",
   "execution_count": null,
   "metadata": {
    "collapsed": true
   },
   "outputs": [],
   "source": []
  }
 ],
 "metadata": {
  "kernelspec": {
   "display_name": "Python 3",
   "language": "python",
   "name": "python3"
  },
  "language_info": {
   "codemirror_mode": {
    "name": "ipython",
    "version": 3
   },
   "file_extension": ".py",
   "mimetype": "text/x-python",
   "name": "python",
   "nbconvert_exporter": "python",
   "pygments_lexer": "ipython3",
   "version": "3.6.3"
  }
 },
 "nbformat": 4,
 "nbformat_minor": 2
}
