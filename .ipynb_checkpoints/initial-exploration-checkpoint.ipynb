{
 "cells": [
  {
   "cell_type": "markdown",
   "metadata": {
    "deletable": true,
    "editable": true
   },
   "source": [
    "# Data Reading"
   ]
  },
  {
   "cell_type": "code",
   "execution_count": 1,
   "metadata": {
    "collapsed": true,
    "deletable": true,
    "editable": true
   },
   "outputs": [],
   "source": [
    "import pandas as pd\n",
    "\n",
    "account_filename = 'data/accountData.csv'\n",
    "customer_filename = 'data/customerData.csv'\n",
    "transaction_filename = 'data/transactionData.csv'\n",
    "labels_filename = 'data/labelledData_15.csv'"
   ]
  },
  {
   "cell_type": "code",
   "execution_count": 2,
   "metadata": {
    "collapsed": true,
    "deletable": true,
    "editable": true
   },
   "outputs": [],
   "source": [
    "accounts = pd.read_csv(account_filename)"
   ]
  },
  {
   "cell_type": "code",
   "execution_count": 4,
   "metadata": {
    "collapsed": false,
    "deletable": true,
    "editable": true
   },
   "outputs": [],
   "source": [
    "customers = pd.read_csv(customer_filename)"
   ]
  },
  {
   "cell_type": "code",
   "execution_count": 5,
   "metadata": {
    "collapsed": true,
    "deletable": true,
    "editable": true
   },
   "outputs": [],
   "source": [
    "transactions = pd.read_csv(transaction_filename)"
   ]
  },
  {
   "cell_type": "code",
   "execution_count": 6,
   "metadata": {
    "collapsed": true,
    "deletable": true,
    "editable": true
   },
   "outputs": [],
   "source": [
    "labels = pd.read_csv(labels_filename)"
   ]
  },
  {
   "cell_type": "markdown",
   "metadata": {
    "deletable": true,
    "editable": true
   },
   "source": [
    "# Data Exploration"
   ]
  },
  {
   "cell_type": "code",
   "execution_count": 7,
   "metadata": {
    "collapsed": false,
    "deletable": true,
    "editable": true
   },
   "outputs": [
    {
     "data": {
      "text/html": [
       "<div>\n",
       "<table border=\"1\" class=\"dataframe\">\n",
       "  <thead>\n",
       "    <tr style=\"text-align: right;\">\n",
       "      <th></th>\n",
       "      <th>ACCOUNT_ID</th>\n",
       "      <th>CUSTOMER_ID</th>\n",
       "      <th>ACCOUNT_DATE_TIME</th>\n",
       "      <th>ACCOUNT_TYPE</th>\n",
       "      <th>ACCOUNT_BALANCE</th>\n",
       "    </tr>\n",
       "  </thead>\n",
       "  <tbody>\n",
       "    <tr>\n",
       "      <th>0</th>\n",
       "      <td>0</td>\n",
       "      <td>0</td>\n",
       "      <td>2016-05-02 03:04:27</td>\n",
       "      <td>basic checkings account</td>\n",
       "      <td>2940588.03</td>\n",
       "    </tr>\n",
       "    <tr>\n",
       "      <th>1</th>\n",
       "      <td>1</td>\n",
       "      <td>0</td>\n",
       "      <td>2016-12-25 08:57:37</td>\n",
       "      <td>savings account</td>\n",
       "      <td>14447151.31</td>\n",
       "    </tr>\n",
       "    <tr>\n",
       "      <th>2</th>\n",
       "      <td>2</td>\n",
       "      <td>1</td>\n",
       "      <td>2016-12-10 08:43:49</td>\n",
       "      <td>interest checking account</td>\n",
       "      <td>2216088.67</td>\n",
       "    </tr>\n",
       "    <tr>\n",
       "      <th>3</th>\n",
       "      <td>3</td>\n",
       "      <td>2</td>\n",
       "      <td>2016-11-24 11:46:26</td>\n",
       "      <td>basic checkings account</td>\n",
       "      <td>3942658.09</td>\n",
       "    </tr>\n",
       "    <tr>\n",
       "      <th>4</th>\n",
       "      <td>4</td>\n",
       "      <td>3</td>\n",
       "      <td>2016-01-15 05:31:45</td>\n",
       "      <td>certificates of deposit</td>\n",
       "      <td>10206951.48</td>\n",
       "    </tr>\n",
       "  </tbody>\n",
       "</table>\n",
       "</div>"
      ],
      "text/plain": [
       "   ACCOUNT_ID  CUSTOMER_ID    ACCOUNT_DATE_TIME               ACCOUNT_TYPE  \\\n",
       "0           0            0  2016-05-02 03:04:27    basic checkings account   \n",
       "1           1            0  2016-12-25 08:57:37            savings account   \n",
       "2           2            1  2016-12-10 08:43:49  interest checking account   \n",
       "3           3            2  2016-11-24 11:46:26    basic checkings account   \n",
       "4           4            3  2016-01-15 05:31:45    certificates of deposit   \n",
       "\n",
       "   ACCOUNT_BALANCE  \n",
       "0       2940588.03  \n",
       "1      14447151.31  \n",
       "2       2216088.67  \n",
       "3       3942658.09  \n",
       "4      10206951.48  "
      ]
     },
     "execution_count": 7,
     "metadata": {},
     "output_type": "execute_result"
    }
   ],
   "source": [
    "accounts.head()"
   ]
  },
  {
   "cell_type": "code",
   "execution_count": 8,
   "metadata": {
    "collapsed": false,
    "deletable": true,
    "editable": true
   },
   "outputs": [
    {
     "data": {
      "text/plain": [
       "{'basic checkings account': Int64Index([     0,      3,      5,     13,     16,     17,     18,     19,\n",
       "                 26,     27,\n",
       "             ...\n",
       "             531766, 531770, 531771, 531775, 531777, 531779, 531781, 531783,\n",
       "             531785, 531790],\n",
       "            dtype='int64', length=212673),\n",
       " 'certificates of deposit': Int64Index([     4,     24,     29,     66,     77,     81,     90,    100,\n",
       "                113,    129,\n",
       "             ...\n",
       "             531717, 531732, 531736, 531739, 531748, 531758, 531763, 531768,\n",
       "             531784, 531787],\n",
       "            dtype='int64', length=47995),\n",
       " 'interest checking account': Int64Index([     2,      7,      9,     14,     20,     30,     34,     42,\n",
       "                 45,     47,\n",
       "             ...\n",
       "             531652, 531663, 531668, 531703, 531705, 531711, 531719, 531723,\n",
       "             531761, 531789],\n",
       "            dtype='int64', length=79750),\n",
       " 'money market account': Int64Index([   118,    147,    165,    188,    199,    342,    397,    404,\n",
       "                412,    435,\n",
       "             ...\n",
       "             531456, 531475, 531491, 531528, 531557, 531562, 531563, 531687,\n",
       "             531753, 531773],\n",
       "            dtype='int64', length=16011),\n",
       " 'savings account': Int64Index([     1,      6,      8,     10,     11,     12,     15,     21,\n",
       "                 22,     23,\n",
       "             ...\n",
       "             531767, 531769, 531772, 531774, 531776, 531778, 531780, 531782,\n",
       "             531786, 531788],\n",
       "            dtype='int64', length=175362)}"
      ]
     },
     "execution_count": 8,
     "metadata": {},
     "output_type": "execute_result"
    }
   ],
   "source": [
    "accounts.groupby('ACCOUNT_TYPE').groups"
   ]
  },
  {
   "cell_type": "code",
   "execution_count": 9,
   "metadata": {
    "collapsed": false,
    "deletable": true,
    "editable": true
   },
   "outputs": [
    {
     "data": {
      "text/html": [
       "<div>\n",
       "<table border=\"1\" class=\"dataframe\">\n",
       "  <thead>\n",
       "    <tr style=\"text-align: right;\">\n",
       "      <th></th>\n",
       "      <th>CUSTOMER_ID</th>\n",
       "      <th>CUSTOMER_TYPE</th>\n",
       "      <th>COUNTRY</th>\n",
       "      <th>CUSTOMER_RISK_SCORE</th>\n",
       "    </tr>\n",
       "  </thead>\n",
       "  <tbody>\n",
       "    <tr>\n",
       "      <th>0</th>\n",
       "      <td>0</td>\n",
       "      <td>Individual</td>\n",
       "      <td>US</td>\n",
       "      <td>0.52</td>\n",
       "    </tr>\n",
       "    <tr>\n",
       "      <th>1</th>\n",
       "      <td>1</td>\n",
       "      <td>Individual</td>\n",
       "      <td>US</td>\n",
       "      <td>0.09</td>\n",
       "    </tr>\n",
       "    <tr>\n",
       "      <th>2</th>\n",
       "      <td>2</td>\n",
       "      <td>Individual</td>\n",
       "      <td>US</td>\n",
       "      <td>0.26</td>\n",
       "    </tr>\n",
       "    <tr>\n",
       "      <th>3</th>\n",
       "      <td>3</td>\n",
       "      <td>Individual</td>\n",
       "      <td>US</td>\n",
       "      <td>0.18</td>\n",
       "    </tr>\n",
       "    <tr>\n",
       "      <th>4</th>\n",
       "      <td>4</td>\n",
       "      <td>Individual</td>\n",
       "      <td>US</td>\n",
       "      <td>0.34</td>\n",
       "    </tr>\n",
       "  </tbody>\n",
       "</table>\n",
       "</div>"
      ],
      "text/plain": [
       "   CUSTOMER_ID CUSTOMER_TYPE COUNTRY  CUSTOMER_RISK_SCORE\n",
       "0            0    Individual      US                 0.52\n",
       "1            1    Individual      US                 0.09\n",
       "2            2    Individual      US                 0.26\n",
       "3            3    Individual      US                 0.18\n",
       "4            4    Individual      US                 0.34"
      ]
     },
     "execution_count": 9,
     "metadata": {},
     "output_type": "execute_result"
    }
   ],
   "source": [
    "customers.head()"
   ]
  },
  {
   "cell_type": "code",
   "execution_count": 13,
   "metadata": {
    "collapsed": false,
    "deletable": true,
    "editable": true
   },
   "outputs": [
    {
     "data": {
      "image/png": "[encoded data removed]",
      "text/plain": [
       "<matplotlib.figure.Figure at 0x7f6b66233128>"
      ]
     },
     "metadata": {},
     "output_type": "display_data"
    }
   ],
   "source": [
    "customers.groupby('CUSTOMER_TYPE')['CUSTOMER_RISK_SCORE'].hist(bins=100);"
   ]
  },
  {
   "cell_type": "code",
   "execution_count": 14,
   "metadata": {
    "collapsed": false,
    "deletable": true,
    "editable": true
   },
   "outputs": [
    {
     "data": {
      "text/html": [
       "<div>\n",
       "<table border=\"1\" class=\"dataframe\">\n",
       "  <thead>\n",
       "    <tr style=\"text-align: right;\">\n",
       "      <th></th>\n",
       "      <th>TRANSACTION_ID</th>\n",
       "      <th>ORIGIN_CUSTOMER_ID</th>\n",
       "      <th>ORIGIN_ACCOUNT_ID</th>\n",
       "      <th>TRANSACTION_DATE_TIME</th>\n",
       "      <th>TRANSACTION_TYPE</th>\n",
       "      <th>TRANSACTION_SOURCE</th>\n",
       "      <th>TRANSACTION_AMOUNT</th>\n",
       "      <th>BENEFICIARY_CUSTOMER_ID</th>\n",
       "      <th>BENEFICIARY_ACCOUNT_ID</th>\n",
       "    </tr>\n",
       "  </thead>\n",
       "  <tbody>\n",
       "    <tr>\n",
       "      <th>0</th>\n",
       "      <td>0</td>\n",
       "      <td>202950.0</td>\n",
       "      <td>431495.0</td>\n",
       "      <td>2017-01-10 19:21:37</td>\n",
       "      <td>charge</td>\n",
       "      <td>online</td>\n",
       "      <td>508.93</td>\n",
       "      <td>NaN</td>\n",
       "      <td>NaN</td>\n",
       "    </tr>\n",
       "    <tr>\n",
       "      <th>1</th>\n",
       "      <td>1</td>\n",
       "      <td>167227.0</td>\n",
       "      <td>355712.0</td>\n",
       "      <td>2017-01-05 12:56:57</td>\n",
       "      <td>withdrawal</td>\n",
       "      <td>atm</td>\n",
       "      <td>20.04</td>\n",
       "      <td>NaN</td>\n",
       "      <td>NaN</td>\n",
       "    </tr>\n",
       "    <tr>\n",
       "      <th>2</th>\n",
       "      <td>2</td>\n",
       "      <td>50445.0</td>\n",
       "      <td>107161.0</td>\n",
       "      <td>2017-01-05 21:08:46</td>\n",
       "      <td>charge</td>\n",
       "      <td>online</td>\n",
       "      <td>79.50</td>\n",
       "      <td>NaN</td>\n",
       "      <td>NaN</td>\n",
       "    </tr>\n",
       "    <tr>\n",
       "      <th>3</th>\n",
       "      <td>3</td>\n",
       "      <td>102321.0</td>\n",
       "      <td>217511.0</td>\n",
       "      <td>2017-01-09 02:30:10</td>\n",
       "      <td>electronic transfer</td>\n",
       "      <td>ach debit</td>\n",
       "      <td>138.39</td>\n",
       "      <td>1083.0</td>\n",
       "      <td>2287.0</td>\n",
       "    </tr>\n",
       "    <tr>\n",
       "      <th>4</th>\n",
       "      <td>4</td>\n",
       "      <td>219263.0</td>\n",
       "      <td>466263.0</td>\n",
       "      <td>2017-01-26 04:12:36</td>\n",
       "      <td>pos</td>\n",
       "      <td>merchant location</td>\n",
       "      <td>695.75</td>\n",
       "      <td>NaN</td>\n",
       "      <td>NaN</td>\n",
       "    </tr>\n",
       "  </tbody>\n",
       "</table>\n",
       "</div>"
      ],
      "text/plain": [
       "   TRANSACTION_ID  ORIGIN_CUSTOMER_ID  ORIGIN_ACCOUNT_ID  \\\n",
       "0               0            202950.0           431495.0   \n",
       "1               1            167227.0           355712.0   \n",
       "2               2             50445.0           107161.0   \n",
       "3               3            102321.0           217511.0   \n",
       "4               4            219263.0           466263.0   \n",
       "\n",
       "  TRANSACTION_DATE_TIME     TRANSACTION_TYPE TRANSACTION_SOURCE  \\\n",
       "0   2017-01-10 19:21:37               charge             online   \n",
       "1   2017-01-05 12:56:57           withdrawal                atm   \n",
       "2   2017-01-05 21:08:46               charge             online   \n",
       "3   2017-01-09 02:30:10  electronic transfer          ach debit   \n",
       "4   2017-01-26 04:12:36                  pos  merchant location   \n",
       "\n",
       "   TRANSACTION_AMOUNT  BENEFICIARY_CUSTOMER_ID  BENEFICIARY_ACCOUNT_ID  \n",
       "0              508.93                      NaN                     NaN  \n",
       "1               20.04                      NaN                     NaN  \n",
       "2               79.50                      NaN                     NaN  \n",
       "3              138.39                   1083.0                  2287.0  \n",
       "4              695.75                      NaN                     NaN  "
      ]
     },
     "execution_count": 14,
     "metadata": {},
     "output_type": "execute_result"
    }
   ],
   "source": [
    "transactions.head()"
   ]
  },
  {
   "cell_type": "code",
   "execution_count": 15,
   "metadata": {
    "collapsed": false,
    "deletable": true,
    "editable": true
   },
   "outputs": [
    {
     "name": "stdout",
     "output_type": "stream",
     "text": [
      "6309\n",
      "15765926\n"
     ]
    }
   ],
   "source": [
    "pos_labels = labels[labels['Class'] == 1]\n",
    "neg_labels = labels[labels['Class'] == 0]\n",
    "print(len(pos_labels))\n",
    "print(len(neg_labels))"
   ]
  },
  {
   "cell_type": "markdown",
   "metadata": {
    "deletable": true,
    "editable": true
   },
   "source": [
    "# Data Visualization"
   ]
  },
  {
   "cell_type": "code",
   "execution_count": 16,
   "metadata": {
    "collapsed": false,
    "deletable": true,
    "editable": true
   },
   "outputs": [
    {
     "name": "stdout",
     "output_type": "stream",
     "text": [
      "Populating the interactive namespace from numpy and matplotlib\n"
     ]
    }
   ],
   "source": [
    "import matplotlib\n",
    "import matplotlib.pyplot as plt\n",
    "import seaborn as sns\n",
    "import numpy as np\n",
    "%pylab inline"
   ]
  },
  {
   "cell_type": "code",
   "execution_count": 17,
   "metadata": {
    "collapsed": false,
    "deletable": true,
    "editable": true
   },
   "outputs": [
    {
     "data": {
      "text/plain": [
       "TRANSACTION_TYPE\n",
       "charge                 8794.718002\n",
       "deposit                  26.244725\n",
       "electronic transfer    8765.544732\n",
       "paper transfer         8857.482060\n",
       "pos                    8790.163424\n",
       "withdrawal               20.181326\n",
       "Name: TRANSACTION_AMOUNT, dtype: float64"
      ]
     },
     "execution_count": 17,
     "metadata": {},
     "output_type": "execute_result"
    }
   ],
   "source": [
    "transactions.groupby('TRANSACTION_TYPE')['TRANSACTION_AMOUNT'].mean()"
   ]
  },
  {
   "cell_type": "markdown",
   "metadata": {
    "deletable": true,
    "editable": true
   },
   "source": [
    "# Data Preprocessing"
   ]
  },
  {
   "cell_type": "code",
   "execution_count": 18,
   "metadata": {
    "collapsed": false,
    "deletable": true,
    "editable": true
   },
   "outputs": [
    {
     "data": {
      "text/plain": [
       "Index(['TRANSACTION_ID', 'ORIGIN_CUSTOMER_ID', 'ORIGIN_ACCOUNT_ID',\n",
       "       'TRANSACTION_DATE_TIME', 'TRANSACTION_TYPE', 'TRANSACTION_SOURCE',\n",
       "       'TRANSACTION_AMOUNT', 'BENEFICIARY_CUSTOMER_ID',\n",
       "       'BENEFICIARY_ACCOUNT_ID'],\n",
       "      dtype='object')"
      ]
     },
     "execution_count": 18,
     "metadata": {},
     "output_type": "execute_result"
    }
   ],
   "source": [
    "transactions.columns"
   ]
  },
  {
   "cell_type": "code",
   "execution_count": null,
   "metadata": {
    "collapsed": true,
    "deletable": true,
    "editable": true
   },
   "outputs": [],
   "source": [
    "# group transactions by 'original_customer_id', and extact 'ORIGIN_ACCOUNT_ID', 'TRANSACTION_TYPE', 'TRANSACTION_SOURCE',\n",
    "# and 'TRANSACTION_AMOUNT'"
   ]
  },
  {
   "cell_type": "code",
   "execution_count": null,
   "metadata": {
    "collapsed": true,
    "deletable": true,
    "editable": true
   },
   "outputs": [],
   "source": [
    "# for each customer, make a stream of lists(acct, tran_type, tran_source, tran_amt) \n",
    "# describing each transaction indexed by transaction time\n",
    "\n",
    "# customer + account ? "
   ]
  },
  {
   "cell_type": "code",
   "execution_count": null,
   "metadata": {
    "collapsed": true,
    "deletable": true,
    "editable": true
   },
   "outputs": [],
   "source": [
    "# apply pca and clustering to customers' streams"
   ]
  },
  {
   "cell_type": "code",
   "execution_count": null,
   "metadata": {
    "collapsed": true,
    "deletable": true,
    "editable": true
   },
   "outputs": [],
   "source": [
    "# find suspicious transaction as outliers of all clusters"
   ]
  },
  {
   "cell_type": "code",
   "execution_count": null,
   "metadata": {
    "collapsed": true,
    "deletable": true,
    "editable": true
   },
   "outputs": [],
   "source": [
    "# train an autoencoder based on the clusters"
   ]
  },
  {
   "cell_type": "code",
   "execution_count": null,
   "metadata": {
    "collapsed": true,
    "deletable": true,
    "editable": true
   },
   "outputs": [],
   "source": [
    "# use the reconstruction error to find money-laundering transactions"
   ]
  },
  {
   "cell_type": "markdown",
   "metadata": {
    "deletable": true,
    "editable": true
   },
   "source": [
    "# Initial Analysis with Customer Risk Score"
   ]
  },
  {
   "cell_type": "code",
   "execution_count": 19,
   "metadata": {
    "collapsed": false,
    "deletable": true,
    "editable": true
   },
   "outputs": [
    {
     "data": {
      "text/html": [
       "<div>\n",
       "<table border=\"1\" class=\"dataframe\">\n",
       "  <thead>\n",
       "    <tr style=\"text-align: right;\">\n",
       "      <th></th>\n",
       "      <th>CUSTOMER_ID</th>\n",
       "      <th>CUSTOMER_RISK_SCORE</th>\n",
       "    </tr>\n",
       "  </thead>\n",
       "  <tbody>\n",
       "    <tr>\n",
       "      <th>count</th>\n",
       "      <td>250000.000000</td>\n",
       "      <td>250000.000000</td>\n",
       "    </tr>\n",
       "    <tr>\n",
       "      <th>mean</th>\n",
       "      <td>124999.500000</td>\n",
       "      <td>0.213565</td>\n",
       "    </tr>\n",
       "    <tr>\n",
       "      <th>std</th>\n",
       "      <td>72168.927986</td>\n",
       "      <td>0.110490</td>\n",
       "    </tr>\n",
       "    <tr>\n",
       "      <th>min</th>\n",
       "      <td>0.000000</td>\n",
       "      <td>0.010000</td>\n",
       "    </tr>\n",
       "    <tr>\n",
       "      <th>25%</th>\n",
       "      <td>62499.750000</td>\n",
       "      <td>0.130000</td>\n",
       "    </tr>\n",
       "    <tr>\n",
       "      <th>50%</th>\n",
       "      <td>124999.500000</td>\n",
       "      <td>0.190000</td>\n",
       "    </tr>\n",
       "    <tr>\n",
       "      <th>75%</th>\n",
       "      <td>187499.250000</td>\n",
       "      <td>0.280000</td>\n",
       "    </tr>\n",
       "    <tr>\n",
       "      <th>max</th>\n",
       "      <td>249999.000000</td>\n",
       "      <td>1.000000</td>\n",
       "    </tr>\n",
       "  </tbody>\n",
       "</table>\n",
       "</div>"
      ],
      "text/plain": [
       "         CUSTOMER_ID  CUSTOMER_RISK_SCORE\n",
       "count  250000.000000        250000.000000\n",
       "mean   124999.500000             0.213565\n",
       "std     72168.927986             0.110490\n",
       "min         0.000000             0.010000\n",
       "25%     62499.750000             0.130000\n",
       "50%    124999.500000             0.190000\n",
       "75%    187499.250000             0.280000\n",
       "max    249999.000000             1.000000"
      ]
     },
     "execution_count": 19,
     "metadata": {},
     "output_type": "execute_result"
    }
   ],
   "source": [
    "customers.describe()"
   ]
  },
  {
   "cell_type": "code",
   "execution_count": 20,
   "metadata": {
    "collapsed": false,
    "deletable": true,
    "editable": true
   },
   "outputs": [
    {
     "name": "stdout",
     "output_type": "stream",
     "text": [
      "6437\n",
      "6309\n"
     ]
    }
   ],
   "source": [
    "print(len(customers[customers['CUSTOMER_RISK_SCORE'] > 0.47]))\n",
    "print(sum(labels['Class']))"
   ]
  },
  {
   "cell_type": "code",
   "execution_count": 21,
   "metadata": {
    "collapsed": true,
    "deletable": true,
    "editable": true
   },
   "outputs": [],
   "source": [
    "# label all transactions with high customer risk score (either sender or receiver) over a adjustable threshold\n",
    "risk_scores = transactions.merge(customers, left_on='ORIGIN_CUSTOMER_ID', right_on='CUSTOMER_ID', how='left')['CUSTOMER_RISK_SCORE']"
   ]
  },
  {
   "cell_type": "code",
   "execution_count": 22,
   "metadata": {
    "collapsed": false,
    "deletable": true,
    "editable": true
   },
   "outputs": [
    {
     "name": "stdout",
     "output_type": "stream",
     "text": [
      "6294\n"
     ]
    }
   ],
   "source": [
    "pred = risk_scores > 0.71\n",
    "print(sum(pred))"
   ]
  },
  {
   "cell_type": "code",
   "execution_count": 23,
   "metadata": {
    "collapsed": false,
    "deletable": true,
    "editable": true
   },
   "outputs": [
    {
     "name": "stdout",
     "output_type": "stream",
     "text": [
      "15772235\n",
      "15772235\n"
     ]
    }
   ],
   "source": [
    "print(len(labels['Class']))\n",
    "print(len(pred))"
   ]
  },
  {
   "cell_type": "code",
   "execution_count": 24,
   "metadata": {
    "collapsed": false,
    "deletable": true,
    "editable": true
   },
   "outputs": [
    {
     "data": {
      "image/png": "[encoded data removed]",
      "text/plain": [
       "<matplotlib.figure.Figure at 0x7f6b687c8ef0>"
      ]
     },
     "metadata": {},
     "output_type": "display_data"
    }
   ],
   "source": [
    "# Then draw the confusion matrix with ground true labels, adjust the threshold to get the best possible combination of \n",
    "# false positives and false negatives\n",
    "from sklearn.metrics import confusion_matrix\n",
    "import matplotlib.pyplot as plt\n",
    "import seaborn as sns\n",
    "sns.set(style='whitegrid', palette='muted', font_scale=1.5)\n",
    "%matplotlib inline\n",
    "\n",
    "conf_matrix = confusion_matrix(labels['Class'], pred)\n",
    "plt.figure(figsize=(12, 12))\n",
    "sns.heatmap(conf_matrix, xticklabels=[0, 1], yticklabels=[0, 1], annot=True, fmt=\"d\");\n",
    "plt.title(\"Confusion matrix\")\n",
    "plt.ylabel('True class')\n",
    "plt.xlabel('Predicted class')\n",
    "plt.show()"
   ]
  },
  {
   "cell_type": "code",
   "execution_count": null,
   "metadata": {
    "collapsed": true
   },
   "outputs": [],
   "source": []
  }
 ],
 "metadata": {
  "kernelspec": {
   "display_name": "Python 3",
   "language": "python",
   "name": "python3"
  },
  "language_info": {
   "codemirror_mode": {
    "name": "ipython",
    "version": 3
   },
   "file_extension": ".py",
   "mimetype": "text/x-python",
   "name": "python",
   "nbconvert_exporter": "python",
   "pygments_lexer": "ipython3",
   "version": "3.6.0"
  },
  "widgets": {
   "state": {},
   "version": "1.1.0"
  }
 },
 "nbformat": 4,
 "nbformat_minor": 2
}
