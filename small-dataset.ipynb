{
 "cells": [
  {
   "cell_type": "markdown",
   "metadata": {},
   "source": [
    "# small transaction dataset"
   ]
  },
  {
   "cell_type": "code",
   "execution_count": 1,
   "metadata": {
    "collapsed": true,
    "deletable": true,
    "editable": true
   },
   "outputs": [],
   "source": [
    "import pandas as pd\n",
    "\n",
    "account_filename = 'data/accountData.csv'\n",
    "customer_filename = 'data/customerData.csv'\n",
    "transaction_filename = 'data/transactionData.csv'\n",
    "labels_filename = 'data/labelledData_15.csv'"
   ]
  },
  {
   "cell_type": "code",
   "execution_count": 2,
   "metadata": {
    "collapsed": true,
    "deletable": true,
    "editable": true
   },
   "outputs": [],
   "source": [
    "accounts = pd.read_csv(account_filename)"
   ]
  },
  {
   "cell_type": "code",
   "execution_count": 3,
   "metadata": {
    "collapsed": true,
    "deletable": true,
    "editable": true
   },
   "outputs": [],
   "source": [
    "customers = pd.read_csv(customer_filename)"
   ]
  },
  {
   "cell_type": "code",
   "execution_count": 4,
   "metadata": {
    "collapsed": true,
    "deletable": true,
    "editable": true
   },
   "outputs": [],
   "source": [
    "transactions = pd.read_csv(transaction_filename)"
   ]
  },
  {
   "cell_type": "code",
   "execution_count": 5,
   "metadata": {
    "collapsed": true,
    "deletable": true,
    "editable": true
   },
   "outputs": [],
   "source": [
    "labels = pd.read_csv(labels_filename)"
   ]
  },
  {
   "cell_type": "code",
   "execution_count": 6,
   "metadata": {
    "collapsed": true,
    "deletable": true,
    "editable": true
   },
   "outputs": [],
   "source": [
    "n = len(labels)"
   ]
  },
  {
   "cell_type": "code",
   "execution_count": 7,
   "metadata": {
    "collapsed": true,
    "deletable": true,
    "editable": true
   },
   "outputs": [],
   "source": [
    "fraction = int(n / 10)"
   ]
  },
  {
   "cell_type": "code",
   "execution_count": 8,
   "metadata": {
    "collapsed": false,
    "deletable": true,
    "editable": true
   },
   "outputs": [
    {
     "name": "stdout",
     "output_type": "stream",
     "text": [
      "15772235\n",
      "1577223\n"
     ]
    }
   ],
   "source": [
    "print(n)\n",
    "print(fraction)"
   ]
  },
  {
   "cell_type": "code",
   "execution_count": 9,
   "metadata": {
    "collapsed": true,
    "deletable": true,
    "editable": true
   },
   "outputs": [],
   "source": [
    "import random"
   ]
  },
  {
   "cell_type": "code",
   "execution_count": 10,
   "metadata": {
    "collapsed": true,
    "deletable": true,
    "editable": true
   },
   "outputs": [],
   "source": [
    "transactions['Label'] = labels['Class']"
   ]
  },
  {
   "cell_type": "code",
   "execution_count": 11,
   "metadata": {
    "collapsed": true,
    "deletable": true,
    "editable": true
   },
   "outputs": [],
   "source": [
    "samples = random.sample(range(n), fraction)"
   ]
  },
  {
   "cell_type": "code",
   "execution_count": 12,
   "metadata": {
    "collapsed": false,
    "deletable": true,
    "editable": true
   },
   "outputs": [],
   "source": [
    "transactions_small = transactions.sample(frac=0.1, random_state = 256)"
   ]
  },
  {
   "cell_type": "code",
   "execution_count": 13,
   "metadata": {
    "collapsed": false,
    "deletable": true,
    "editable": true
   },
   "outputs": [
    {
     "name": "stdout",
     "output_type": "stream",
     "text": [
      "1577224\n"
     ]
    }
   ],
   "source": [
    "print(len(transactions_small))"
   ]
  },
  {
   "cell_type": "code",
   "execution_count": 14,
   "metadata": {
    "collapsed": false,
    "deletable": true,
    "editable": true
   },
   "outputs": [
    {
     "data": {
      "text/plain": [
       "605"
      ]
     },
     "execution_count": 14,
     "metadata": {},
     "output_type": "execute_result"
    }
   ],
   "source": [
    "sum(transactions_small['Label'])"
   ]
  },
  {
   "cell_type": "code",
   "execution_count": 15,
   "metadata": {
    "collapsed": true,
    "deletable": true,
    "editable": true
   },
   "outputs": [],
   "source": [
    "transactions_small.to_csv('data/transactions_small.csv')"
   ]
  },
  {
   "cell_type": "markdown",
   "metadata": {},
   "source": [
    "# Cleaned small transaction dataset"
   ]
  },
  {
   "cell_type": "code",
   "execution_count": 16,
   "metadata": {
    "collapsed": true
   },
   "outputs": [],
   "source": [
    "del transactions_small['TRANSACTION_ID']\n",
    "del transactions_small['BENEFICIARY_CUSTOMER_ID'] \n",
    "del transactions_small['BENEFICIARY_ACCOUNT_ID']"
   ]
  },
  {
   "cell_type": "code",
   "execution_count": 17,
   "metadata": {
    "collapsed": true
   },
   "outputs": [],
   "source": [
    "transactions_small['ORIGIN_CUSTOMER_ID'].fillna(2.5e+05, inplace=True)\n",
    "transactions_small['ORIGIN_ACCOUNT_ID'].fillna(5.317910e+05, inplace=True)"
   ]
  },
  {
   "cell_type": "code",
   "execution_count": 18,
   "metadata": {
    "collapsed": true
   },
   "outputs": [],
   "source": [
    "transactions_small['TRANSACTION_SOURCE'] = transactions_small['TRANSACTION_SOURCE'].astype('category').cat.codes\n",
    "transactions_small['TRANSACTION_TYPE'] = transactions_small['TRANSACTION_TYPE'].astype('category').cat.codes"
   ]
  },
  {
   "cell_type": "code",
   "execution_count": 19,
   "metadata": {
    "collapsed": true
   },
   "outputs": [],
   "source": [
    "transactions_small = transactions_small.merge(customers, left_on='ORIGIN_CUSTOMER_ID', right_on='CUSTOMER_ID', how='left')"
   ]
  },
  {
   "cell_type": "code",
   "execution_count": 20,
   "metadata": {
    "collapsed": true
   },
   "outputs": [],
   "source": [
    "transactions_small['CUSTOMER_RISK_SCORE'].fillna(transactions_small['CUSTOMER_RISK_SCORE'].mean(), inplace=True)"
   ]
  },
  {
   "cell_type": "code",
   "execution_count": 21,
   "metadata": {
    "collapsed": true
   },
   "outputs": [],
   "source": [
    "transactions_small['CUSTOMER_TYPE'].fillna('unknown', inplace=True)\n",
    "transactions_small['COUNTRY'].fillna('unknown', inplace=True)"
   ]
  },
  {
   "cell_type": "code",
   "execution_count": 22,
   "metadata": {
    "collapsed": true
   },
   "outputs": [],
   "source": [
    "transactions_small['CUSTOMER_TYPE'] = transactions_small['CUSTOMER_TYPE'].astype('category').cat.codes\n",
    "transactions_small['COUNTRY'] = transactions_small['COUNTRY'].astype('category').cat.codes"
   ]
  },
  {
   "cell_type": "code",
   "execution_count": 23,
   "metadata": {
    "collapsed": true
   },
   "outputs": [],
   "source": [
    "transactions_small['TRANSACTION_DATE_TIME'] = pd.to_datetime(transactions_small['TRANSACTION_DATE_TIME'], format='%Y-%m-%d %H:%M:%S')"
   ]
  },
  {
   "cell_type": "code",
   "execution_count": 24,
   "metadata": {
    "collapsed": true
   },
   "outputs": [],
   "source": [
    "transactions_small['Day'] = transactions_small['TRANSACTION_DATE_TIME'].dt.strftime('%d').astype('float64')\n",
    "transactions_small['Hour'] = transactions_small['TRANSACTION_DATE_TIME'].dt.strftime('%H').astype('float64')\n",
    "transactions_small['Minute'] = transactions_small['TRANSACTION_DATE_TIME'].dt.strftime('%M').astype('float64')"
   ]
  },
  {
   "cell_type": "code",
   "execution_count": 25,
   "metadata": {
    "collapsed": true
   },
   "outputs": [],
   "source": [
    "del transactions_small['TRANSACTION_DATE_TIME']"
   ]
  },
  {
   "cell_type": "code",
   "execution_count": 26,
   "metadata": {
    "collapsed": false
   },
   "outputs": [],
   "source": [
    "del transactions_small['CUSTOMER_ID']"
   ]
  },
  {
   "cell_type": "code",
   "execution_count": 27,
   "metadata": {
    "collapsed": false
   },
   "outputs": [
    {
     "data": {
      "text/plain": [
       "12"
      ]
     },
     "execution_count": 27,
     "metadata": {},
     "output_type": "execute_result"
    }
   ],
   "source": [
    "len(transactions_small.columns)"
   ]
  },
  {
   "cell_type": "code",
   "execution_count": 28,
   "metadata": {
    "collapsed": true
   },
   "outputs": [],
   "source": [
    "from sklearn.preprocessing import MinMaxScaler\n",
    "scaler = MinMaxScaler()\n",
    "transactions_small[['TRANSACTION_AMOUNT']] = scaler.fit_transform(transactions_small[['TRANSACTION_AMOUNT']])\n",
    "transactions_small[['TRANSACTION_TYPE']] = scaler.fit_transform(transactions_small[['TRANSACTION_TYPE']])\n",
    "transactions_small[['TRANSACTION_SOURCE']] = scaler.fit_transform(transactions_small[['TRANSACTION_SOURCE']])\n",
    "transactions_small[['ORIGIN_CUSTOMER_ID']] = scaler.fit_transform(transactions_small[['ORIGIN_CUSTOMER_ID']])\n",
    "transactions_small[['ORIGIN_ACCOUNT_ID']] = scaler.fit_transform(transactions_small[['ORIGIN_ACCOUNT_ID']])\n",
    "transactions_small[['CUSTOMER_RISK_SCORE']] = scaler.fit_transform(transactions_small[['CUSTOMER_RISK_SCORE']])\n",
    "transactions_small[['CUSTOMER_TYPE']] = scaler.fit_transform(transactions_small[['CUSTOMER_TYPE']])\n",
    "transactions_small[['COUNTRY']] = scaler.fit_transform(transactions_small[['COUNTRY']])\n",
    "\n",
    "\n",
    "transactions_small[['Day']] = scaler.fit_transform(transactions_small[['Day']])\n",
    "transactions_small[['Hour']] = scaler.fit_transform(transactions_small[['Hour']])\n",
    "transactions_small[['Minute']] = scaler.fit_transform(transactions_small[['Minute']])"
   ]
  },
  {
   "cell_type": "code",
   "execution_count": 29,
   "metadata": {
    "collapsed": true
   },
   "outputs": [],
   "source": [
    "transactions_small.to_csv('data/transactions_small_clean.csv')"
   ]
  },
  {
   "cell_type": "code",
   "execution_count": null,
   "metadata": {
    "collapsed": true
   },
   "outputs": [],
   "source": []
  }
 ],
 "metadata": {
  "kernelspec": {
   "display_name": "Python 3",
   "language": "python",
   "name": "python3"
  },
  "language_info": {
   "codemirror_mode": {
    "name": "ipython",
    "version": 3
   },
   "file_extension": ".py",
   "mimetype": "text/x-python",
   "name": "python",
   "nbconvert_exporter": "python",
   "pygments_lexer": "ipython3",
   "version": "3.6.0"
  },
  "widgets": {
   "state": {},
   "version": "1.1.0"
  }
 },
 "nbformat": 4,
 "nbformat_minor": 2
}
