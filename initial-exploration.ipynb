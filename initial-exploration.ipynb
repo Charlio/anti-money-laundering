{
 "cells": [
  {
   "cell_type": "markdown",
   "metadata": {},
   "source": [
    "# Data Reading"
   ]
  },
  {
   "cell_type": "code",
   "execution_count": 41,
   "metadata": {
    "collapsed": true
   },
   "outputs": [],
   "source": [
    "import pandas as pd\n",
    "\n",
    "account_filename = 'data/accountData.csv'\n",
    "customer_filename = 'data/customerData.csv'\n",
    "transaction_filename = 'data/transactionData.csv'\n",
    "labels_filename = 'data/labelledData_15.csv'"
   ]
  },
  {
   "cell_type": "code",
   "execution_count": 2,
   "metadata": {
    "collapsed": true
   },
   "outputs": [],
   "source": [
    "accounts = pd.read_csv(account_filename)"
   ]
  },
  {
   "cell_type": "code",
   "execution_count": 3,
   "metadata": {
    "collapsed": true
   },
   "outputs": [],
   "source": [
    "customers = pd.read_csv(customer_filename)"
   ]
  },
  {
   "cell_type": "code",
   "execution_count": 4,
   "metadata": {
    "collapsed": true
   },
   "outputs": [],
   "source": [
    "transactions = pd.read_csv(transaction_filename)"
   ]
  },
  {
   "cell_type": "code",
   "execution_count": 42,
   "metadata": {},
   "outputs": [],
   "source": [
    "labels = pd.read_csv(labels_filename)"
   ]
  },
  {
   "cell_type": "markdown",
   "metadata": {},
   "source": [
    "# Data Exploration"
   ]
  },
  {
   "cell_type": "code",
   "execution_count": 23,
   "metadata": {},
   "outputs": [
    {
     "data": {
      "text/html": [
       "<div>\n",
       "<style>\n",
       "    .dataframe thead tr:only-child th {\n",
       "        text-align: right;\n",
       "    }\n",
       "\n",
       "    .dataframe thead th {\n",
       "        text-align: left;\n",
       "    }\n",
       "\n",
       "    .dataframe tbody tr th {\n",
       "        vertical-align: top;\n",
       "    }\n",
       "</style>\n",
       "<table border=\"1\" class=\"dataframe\">\n",
       "  <thead>\n",
       "    <tr style=\"text-align: right;\">\n",
       "      <th></th>\n",
       "      <th>ACCOUNT_ID</th>\n",
       "      <th>CUSTOMER_ID</th>\n",
       "      <th>ACCOUNT_DATE_TIME</th>\n",
       "      <th>ACCOUNT_TYPE</th>\n",
       "      <th>ACCOUNT_BALANCE</th>\n",
       "    </tr>\n",
       "  </thead>\n",
       "  <tbody>\n",
       "    <tr>\n",
       "      <th>0</th>\n",
       "      <td>0</td>\n",
       "      <td>0</td>\n",
       "      <td>2016-05-02 03:04:27</td>\n",
       "      <td>basic checkings account</td>\n",
       "      <td>2940588.03</td>\n",
       "    </tr>\n",
       "    <tr>\n",
       "      <th>1</th>\n",
       "      <td>1</td>\n",
       "      <td>0</td>\n",
       "      <td>2016-12-25 08:57:37</td>\n",
       "      <td>savings account</td>\n",
       "      <td>14447151.31</td>\n",
       "    </tr>\n",
       "    <tr>\n",
       "      <th>2</th>\n",
       "      <td>2</td>\n",
       "      <td>1</td>\n",
       "      <td>2016-12-10 08:43:49</td>\n",
       "      <td>interest checking account</td>\n",
       "      <td>2216088.67</td>\n",
       "    </tr>\n",
       "    <tr>\n",
       "      <th>3</th>\n",
       "      <td>3</td>\n",
       "      <td>2</td>\n",
       "      <td>2016-11-24 11:46:26</td>\n",
       "      <td>basic checkings account</td>\n",
       "      <td>3942658.09</td>\n",
       "    </tr>\n",
       "    <tr>\n",
       "      <th>4</th>\n",
       "      <td>4</td>\n",
       "      <td>3</td>\n",
       "      <td>2016-01-15 05:31:45</td>\n",
       "      <td>certificates of deposit</td>\n",
       "      <td>10206951.48</td>\n",
       "    </tr>\n",
       "  </tbody>\n",
       "</table>\n",
       "</div>"
      ],
      "text/plain": [
       "   ACCOUNT_ID  CUSTOMER_ID    ACCOUNT_DATE_TIME               ACCOUNT_TYPE  \\\n",
       "0           0            0  2016-05-02 03:04:27    basic checkings account   \n",
       "1           1            0  2016-12-25 08:57:37            savings account   \n",
       "2           2            1  2016-12-10 08:43:49  interest checking account   \n",
       "3           3            2  2016-11-24 11:46:26    basic checkings account   \n",
       "4           4            3  2016-01-15 05:31:45    certificates of deposit   \n",
       "\n",
       "   ACCOUNT_BALANCE  \n",
       "0       2940588.03  \n",
       "1      14447151.31  \n",
       "2       2216088.67  \n",
       "3       3942658.09  \n",
       "4      10206951.48  "
      ]
     },
     "execution_count": 23,
     "metadata": {},
     "output_type": "execute_result"
    }
   ],
   "source": [
    "accounts.head()"
   ]
  },
  {
   "cell_type": "code",
   "execution_count": null,
   "metadata": {},
   "outputs": [],
   "source": [
    "accounts.groupby('ACCOUNT_TYPE').groups"
   ]
  },
  {
   "cell_type": "code",
   "execution_count": 27,
   "metadata": {},
   "outputs": [
    {
     "data": {
      "text/html": [
       "<div>\n",
       "<style>\n",
       "    .dataframe thead tr:only-child th {\n",
       "        text-align: right;\n",
       "    }\n",
       "\n",
       "    .dataframe thead th {\n",
       "        text-align: left;\n",
       "    }\n",
       "\n",
       "    .dataframe tbody tr th {\n",
       "        vertical-align: top;\n",
       "    }\n",
       "</style>\n",
       "<table border=\"1\" class=\"dataframe\">\n",
       "  <thead>\n",
       "    <tr style=\"text-align: right;\">\n",
       "      <th></th>\n",
       "      <th>CUSTOMER_ID</th>\n",
       "      <th>CUSTOMER_TYPE</th>\n",
       "      <th>COUNTRY</th>\n",
       "      <th>CUSTOMER_RISK_SCORE</th>\n",
       "    </tr>\n",
       "  </thead>\n",
       "  <tbody>\n",
       "    <tr>\n",
       "      <th>0</th>\n",
       "      <td>0</td>\n",
       "      <td>Individual</td>\n",
       "      <td>US</td>\n",
       "      <td>0.52</td>\n",
       "    </tr>\n",
       "    <tr>\n",
       "      <th>1</th>\n",
       "      <td>1</td>\n",
       "      <td>Individual</td>\n",
       "      <td>US</td>\n",
       "      <td>0.09</td>\n",
       "    </tr>\n",
       "    <tr>\n",
       "      <th>2</th>\n",
       "      <td>2</td>\n",
       "      <td>Individual</td>\n",
       "      <td>US</td>\n",
       "      <td>0.26</td>\n",
       "    </tr>\n",
       "    <tr>\n",
       "      <th>3</th>\n",
       "      <td>3</td>\n",
       "      <td>Individual</td>\n",
       "      <td>US</td>\n",
       "      <td>0.18</td>\n",
       "    </tr>\n",
       "    <tr>\n",
       "      <th>4</th>\n",
       "      <td>4</td>\n",
       "      <td>Individual</td>\n",
       "      <td>US</td>\n",
       "      <td>0.34</td>\n",
       "    </tr>\n",
       "  </tbody>\n",
       "</table>\n",
       "</div>"
      ],
      "text/plain": [
       "   CUSTOMER_ID CUSTOMER_TYPE COUNTRY  CUSTOMER_RISK_SCORE\n",
       "0            0    Individual      US                 0.52\n",
       "1            1    Individual      US                 0.09\n",
       "2            2    Individual      US                 0.26\n",
       "3            3    Individual      US                 0.18\n",
       "4            4    Individual      US                 0.34"
      ]
     },
     "execution_count": 27,
     "metadata": {},
     "output_type": "execute_result"
    }
   ],
   "source": [
    "customers.head()"
   ]
  },
  {
   "cell_type": "code",
   "execution_count": 30,
   "metadata": {},
   "outputs": [
    {
     "data": {
      "image/png": "[encoded data removed]",
      "text/plain": [
       "<matplotlib.figure.Figure at 0x2281ca3a7b8>"
      ]
     },
     "metadata": {},
     "output_type": "display_data"
    }
   ],
   "source": [
    "customers.groupby('CUSTOMER_TYPE')['CUSTOMER_RISK_SCORE'].hist();"
   ]
  },
  {
   "cell_type": "code",
   "execution_count": 31,
   "metadata": {},
   "outputs": [
    {
     "data": {
      "text/html": [
       "<div>\n",
       "<style>\n",
       "    .dataframe thead tr:only-child th {\n",
       "        text-align: right;\n",
       "    }\n",
       "\n",
       "    .dataframe thead th {\n",
       "        text-align: left;\n",
       "    }\n",
       "\n",
       "    .dataframe tbody tr th {\n",
       "        vertical-align: top;\n",
       "    }\n",
       "</style>\n",
       "<table border=\"1\" class=\"dataframe\">\n",
       "  <thead>\n",
       "    <tr style=\"text-align: right;\">\n",
       "      <th></th>\n",
       "      <th>TRANSACTION_ID</th>\n",
       "      <th>ORIGIN_CUSTOMER_ID</th>\n",
       "      <th>ORIGIN_ACCOUNT_ID</th>\n",
       "      <th>TRANSACTION_DATE_TIME</th>\n",
       "      <th>TRANSACTION_TYPE</th>\n",
       "      <th>TRANSACTION_SOURCE</th>\n",
       "      <th>TRANSACTION_AMOUNT</th>\n",
       "      <th>BENEFICIARY_CUSTOMER_ID</th>\n",
       "      <th>BENEFICIARY_ACCOUNT_ID</th>\n",
       "    </tr>\n",
       "  </thead>\n",
       "  <tbody>\n",
       "    <tr>\n",
       "      <th>0</th>\n",
       "      <td>0</td>\n",
       "      <td>202950.0</td>\n",
       "      <td>431495.0</td>\n",
       "      <td>2017-01-10 19:21:37</td>\n",
       "      <td>charge</td>\n",
       "      <td>online</td>\n",
       "      <td>508.93</td>\n",
       "      <td>NaN</td>\n",
       "      <td>NaN</td>\n",
       "    </tr>\n",
       "    <tr>\n",
       "      <th>1</th>\n",
       "      <td>1</td>\n",
       "      <td>167227.0</td>\n",
       "      <td>355712.0</td>\n",
       "      <td>2017-01-05 12:56:57</td>\n",
       "      <td>withdrawal</td>\n",
       "      <td>atm</td>\n",
       "      <td>20.04</td>\n",
       "      <td>NaN</td>\n",
       "      <td>NaN</td>\n",
       "    </tr>\n",
       "    <tr>\n",
       "      <th>2</th>\n",
       "      <td>2</td>\n",
       "      <td>50445.0</td>\n",
       "      <td>107161.0</td>\n",
       "      <td>2017-01-05 21:08:46</td>\n",
       "      <td>charge</td>\n",
       "      <td>online</td>\n",
       "      <td>79.50</td>\n",
       "      <td>NaN</td>\n",
       "      <td>NaN</td>\n",
       "    </tr>\n",
       "    <tr>\n",
       "      <th>3</th>\n",
       "      <td>3</td>\n",
       "      <td>102321.0</td>\n",
       "      <td>217511.0</td>\n",
       "      <td>2017-01-09 02:30:10</td>\n",
       "      <td>electronic transfer</td>\n",
       "      <td>ach debit</td>\n",
       "      <td>138.39</td>\n",
       "      <td>1083.0</td>\n",
       "      <td>2287.0</td>\n",
       "    </tr>\n",
       "    <tr>\n",
       "      <th>4</th>\n",
       "      <td>4</td>\n",
       "      <td>219263.0</td>\n",
       "      <td>466263.0</td>\n",
       "      <td>2017-01-26 04:12:36</td>\n",
       "      <td>pos</td>\n",
       "      <td>merchant location</td>\n",
       "      <td>695.75</td>\n",
       "      <td>NaN</td>\n",
       "      <td>NaN</td>\n",
       "    </tr>\n",
       "  </tbody>\n",
       "</table>\n",
       "</div>"
      ],
      "text/plain": [
       "   TRANSACTION_ID  ORIGIN_CUSTOMER_ID  ORIGIN_ACCOUNT_ID  \\\n",
       "0               0            202950.0           431495.0   \n",
       "1               1            167227.0           355712.0   \n",
       "2               2             50445.0           107161.0   \n",
       "3               3            102321.0           217511.0   \n",
       "4               4            219263.0           466263.0   \n",
       "\n",
       "  TRANSACTION_DATE_TIME     TRANSACTION_TYPE TRANSACTION_SOURCE  \\\n",
       "0   2017-01-10 19:21:37               charge             online   \n",
       "1   2017-01-05 12:56:57           withdrawal                atm   \n",
       "2   2017-01-05 21:08:46               charge             online   \n",
       "3   2017-01-09 02:30:10  electronic transfer          ach debit   \n",
       "4   2017-01-26 04:12:36                  pos  merchant location   \n",
       "\n",
       "   TRANSACTION_AMOUNT  BENEFICIARY_CUSTOMER_ID  BENEFICIARY_ACCOUNT_ID  \n",
       "0              508.93                      NaN                     NaN  \n",
       "1               20.04                      NaN                     NaN  \n",
       "2               79.50                      NaN                     NaN  \n",
       "3              138.39                   1083.0                  2287.0  \n",
       "4              695.75                      NaN                     NaN  "
      ]
     },
     "execution_count": 31,
     "metadata": {},
     "output_type": "execute_result"
    }
   ],
   "source": [
    "transactions.head()"
   ]
  },
  {
   "cell_type": "code",
   "execution_count": 52,
   "metadata": {},
   "outputs": [
    {
     "name": "stdout",
     "output_type": "stream",
     "text": [
      "6309\n",
      "15765926\n"
     ]
    }
   ],
   "source": [
    "pos_labels = labels[labels['Class'] == 1]\n",
    "neg_labels = labels[labels['Class'] == 0]\n",
    "print(len(pos_labels))\n",
    "print(len(neg_labels))"
   ]
  },
  {
   "cell_type": "markdown",
   "metadata": {},
   "source": [
    "# Data Visualization"
   ]
  },
  {
   "cell_type": "code",
   "execution_count": 36,
   "metadata": {},
   "outputs": [
    {
     "name": "stdout",
     "output_type": "stream",
     "text": [
      "Populating the interactive namespace from numpy and matplotlib\n"
     ]
    }
   ],
   "source": [
    "import matplotlib\n",
    "import matplotlib.pyplot as plt\n",
    "import seaborn as sns\n",
    "import numpy as np\n",
    "%pylab inline"
   ]
  },
  {
   "cell_type": "code",
   "execution_count": 39,
   "metadata": {},
   "outputs": [
    {
     "data": {
      "text/plain": [
       "TRANSACTION_TYPE\n",
       "charge                 8794.718002\n",
       "deposit                  26.244725\n",
       "electronic transfer    8765.544732\n",
       "paper transfer         8857.482060\n",
       "pos                    8790.163424\n",
       "withdrawal               20.181326\n",
       "Name: TRANSACTION_AMOUNT, dtype: float64"
      ]
     },
     "execution_count": 39,
     "metadata": {},
     "output_type": "execute_result"
    }
   ],
   "source": [
    "transactions.groupby('TRANSACTION_TYPE')['TRANSACTION_AMOUNT'].mean()"
   ]
  },
  {
   "cell_type": "markdown",
   "metadata": {},
   "source": [
    "# Data Preprocessing"
   ]
  },
  {
   "cell_type": "code",
   "execution_count": 53,
   "metadata": {},
   "outputs": [
    {
     "data": {
      "text/plain": [
       "Index(['TRANSACTION_ID', 'ORIGIN_CUSTOMER_ID', 'ORIGIN_ACCOUNT_ID',\n",
       "       'TRANSACTION_DATE_TIME', 'TRANSACTION_TYPE', 'TRANSACTION_SOURCE',\n",
       "       'TRANSACTION_AMOUNT', 'BENEFICIARY_CUSTOMER_ID',\n",
       "       'BENEFICIARY_ACCOUNT_ID'],\n",
       "      dtype='object')"
      ]
     },
     "execution_count": 53,
     "metadata": {},
     "output_type": "execute_result"
    }
   ],
   "source": [
    "transactions.columns"
   ]
  },
  {
   "cell_type": "code",
   "execution_count": null,
   "metadata": {
    "collapsed": true
   },
   "outputs": [],
   "source": [
    "# group transactions by 'original_customer_id', and extact 'ORIGIN_ACCOUNT_ID', 'TRANSACTION_TYPE', 'TRANSACTION_SOURCE',\n",
    "# and 'TRANSACTION_AMOUNT'"
   ]
  },
  {
   "cell_type": "code",
   "execution_count": null,
   "metadata": {
    "collapsed": true
   },
   "outputs": [],
   "source": [
    "# for each customer, make a stream of lists(acct, tran_type, tran_source, tran_amt) \n",
    "# describing each transaction indexed by transaction time\n",
    "\n",
    "# customer + account ? "
   ]
  },
  {
   "cell_type": "code",
   "execution_count": null,
   "metadata": {
    "collapsed": true
   },
   "outputs": [],
   "source": [
    "# apply pca and clustering to customers' streams"
   ]
  },
  {
   "cell_type": "code",
   "execution_count": null,
   "metadata": {
    "collapsed": true
   },
   "outputs": [],
   "source": [
    "# find suspicious transaction as outliers of all clusters"
   ]
  },
  {
   "cell_type": "code",
   "execution_count": null,
   "metadata": {
    "collapsed": true
   },
   "outputs": [],
   "source": [
    "# train an autoencoder based on the clusters"
   ]
  },
  {
   "cell_type": "code",
   "execution_count": null,
   "metadata": {
    "collapsed": true
   },
   "outputs": [],
   "source": [
    "# use the reconstruction error to find money-laundering transactions"
   ]
  }
 ],
 "metadata": {
  "kernelspec": {
   "display_name": "Python 3",
   "language": "python",
   "name": "python3"
  },
  "language_info": {
   "codemirror_mode": {
    "name": "ipython",
    "version": 3
   },
   "file_extension": ".py",
   "mimetype": "text/x-python",
   "name": "python",
   "nbconvert_exporter": "python",
   "pygments_lexer": "ipython3",
   "version": "3.6.3"
  }
 },
 "nbformat": 4,
 "nbformat_minor": 2
}
