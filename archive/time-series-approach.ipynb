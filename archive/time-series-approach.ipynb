{
 "cells": [
  {
   "cell_type": "markdown",
   "metadata": {},
   "source": [
    "# Data Reading"
   ]
  },
  {
   "cell_type": "code",
   "execution_count": 1,
   "metadata": {
    "collapsed": true
   },
   "outputs": [],
   "source": [
    "import pandas as pd\n",
    "\n",
    "account_filename = 'data/accountData.csv'\n",
    "customer_filename = 'data/customerData.csv'\n",
    "transaction_filename = 'data/transactionData.csv'\n",
    "labels_filename = 'data/labelledData_15.csv'"
   ]
  },
  {
   "cell_type": "code",
   "execution_count": 3,
   "metadata": {
    "collapsed": true
   },
   "outputs": [],
   "source": [
    "accounts = pd.read_csv(account_filename)"
   ]
  },
  {
   "cell_type": "code",
   "execution_count": 4,
   "metadata": {
    "collapsed": true
   },
   "outputs": [],
   "source": [
    "customers = pd.read_csv(customer_filename)"
   ]
  },
  {
   "cell_type": "code",
   "execution_count": 5,
   "metadata": {
    "collapsed": true
   },
   "outputs": [],
   "source": [
    "transactions = pd.read_csv(transaction_filename)"
   ]
  },
  {
   "cell_type": "code",
   "execution_count": 6,
   "metadata": {
    "collapsed": true
   },
   "outputs": [],
   "source": [
    "labels = pd.read_csv(labels_filename)"
   ]
  },
  {
   "cell_type": "markdown",
   "metadata": {},
   "source": [
    "# Data Exploration"
   ]
  },
  {
   "cell_type": "code",
   "execution_count": 8,
   "metadata": {
    "collapsed": true
   },
   "outputs": [],
   "source": [
    "from sklearn.metrics import confusion_matrix\n",
    "import matplotlib.pyplot as plt\n",
    "import seaborn as sns\n",
    "sns.set(style='whitegrid', palette='muted', font_scale=1.5)\n",
    "%matplotlib inline"
   ]
  },
  {
   "cell_type": "code",
   "execution_count": 12,
   "metadata": {},
   "outputs": [
    {
     "data": {
      "text/html": [
       "<div>\n",
       "<style>\n",
       "    .dataframe thead tr:only-child th {\n",
       "        text-align: right;\n",
       "    }\n",
       "\n",
       "    .dataframe thead th {\n",
       "        text-align: left;\n",
       "    }\n",
       "\n",
       "    .dataframe tbody tr th {\n",
       "        vertical-align: top;\n",
       "    }\n",
       "</style>\n",
       "<table border=\"1\" class=\"dataframe\">\n",
       "  <thead>\n",
       "    <tr style=\"text-align: right;\">\n",
       "      <th></th>\n",
       "      <th>TRANSACTION_ID</th>\n",
       "      <th>ORIGIN_CUSTOMER_ID</th>\n",
       "      <th>ORIGIN_ACCOUNT_ID</th>\n",
       "      <th>TRANSACTION_DATE_TIME</th>\n",
       "      <th>TRANSACTION_TYPE</th>\n",
       "      <th>TRANSACTION_SOURCE</th>\n",
       "      <th>TRANSACTION_AMOUNT</th>\n",
       "      <th>BENEFICIARY_CUSTOMER_ID</th>\n",
       "      <th>BENEFICIARY_ACCOUNT_ID</th>\n",
       "    </tr>\n",
       "  </thead>\n",
       "  <tbody>\n",
       "    <tr>\n",
       "      <th>0</th>\n",
       "      <td>0</td>\n",
       "      <td>202950.0</td>\n",
       "      <td>431495.0</td>\n",
       "      <td>2017-01-10 19:21:37</td>\n",
       "      <td>charge</td>\n",
       "      <td>online</td>\n",
       "      <td>508.93</td>\n",
       "      <td>NaN</td>\n",
       "      <td>NaN</td>\n",
       "    </tr>\n",
       "    <tr>\n",
       "      <th>1</th>\n",
       "      <td>1</td>\n",
       "      <td>167227.0</td>\n",
       "      <td>355712.0</td>\n",
       "      <td>2017-01-05 12:56:57</td>\n",
       "      <td>withdrawal</td>\n",
       "      <td>atm</td>\n",
       "      <td>20.04</td>\n",
       "      <td>NaN</td>\n",
       "      <td>NaN</td>\n",
       "    </tr>\n",
       "    <tr>\n",
       "      <th>2</th>\n",
       "      <td>2</td>\n",
       "      <td>50445.0</td>\n",
       "      <td>107161.0</td>\n",
       "      <td>2017-01-05 21:08:46</td>\n",
       "      <td>charge</td>\n",
       "      <td>online</td>\n",
       "      <td>79.50</td>\n",
       "      <td>NaN</td>\n",
       "      <td>NaN</td>\n",
       "    </tr>\n",
       "    <tr>\n",
       "      <th>3</th>\n",
       "      <td>3</td>\n",
       "      <td>102321.0</td>\n",
       "      <td>217511.0</td>\n",
       "      <td>2017-01-09 02:30:10</td>\n",
       "      <td>electronic transfer</td>\n",
       "      <td>ach debit</td>\n",
       "      <td>138.39</td>\n",
       "      <td>1083.0</td>\n",
       "      <td>2287.0</td>\n",
       "    </tr>\n",
       "    <tr>\n",
       "      <th>4</th>\n",
       "      <td>4</td>\n",
       "      <td>219263.0</td>\n",
       "      <td>466263.0</td>\n",
       "      <td>2017-01-26 04:12:36</td>\n",
       "      <td>pos</td>\n",
       "      <td>merchant location</td>\n",
       "      <td>695.75</td>\n",
       "      <td>NaN</td>\n",
       "      <td>NaN</td>\n",
       "    </tr>\n",
       "    <tr>\n",
       "      <th>5</th>\n",
       "      <td>5</td>\n",
       "      <td>23020.0</td>\n",
       "      <td>49038.0</td>\n",
       "      <td>2017-01-19 17:22:42</td>\n",
       "      <td>charge</td>\n",
       "      <td>online</td>\n",
       "      <td>31.72</td>\n",
       "      <td>NaN</td>\n",
       "      <td>NaN</td>\n",
       "    </tr>\n",
       "    <tr>\n",
       "      <th>6</th>\n",
       "      <td>6</td>\n",
       "      <td>67442.0</td>\n",
       "      <td>143094.0</td>\n",
       "      <td>2017-01-02 00:37:05</td>\n",
       "      <td>electronic transfer</td>\n",
       "      <td>ach credit</td>\n",
       "      <td>5233.86</td>\n",
       "      <td>51373.0</td>\n",
       "      <td>109115.0</td>\n",
       "    </tr>\n",
       "    <tr>\n",
       "      <th>7</th>\n",
       "      <td>7</td>\n",
       "      <td>83147.0</td>\n",
       "      <td>176668.0</td>\n",
       "      <td>2017-01-28 03:44:26</td>\n",
       "      <td>electronic transfer</td>\n",
       "      <td>ach credit</td>\n",
       "      <td>509.60</td>\n",
       "      <td>169169.0</td>\n",
       "      <td>359765.0</td>\n",
       "    </tr>\n",
       "    <tr>\n",
       "      <th>8</th>\n",
       "      <td>8</td>\n",
       "      <td>80955.0</td>\n",
       "      <td>172073.0</td>\n",
       "      <td>2017-01-14 15:49:03</td>\n",
       "      <td>withdrawal</td>\n",
       "      <td>teller</td>\n",
       "      <td>20.01</td>\n",
       "      <td>NaN</td>\n",
       "      <td>NaN</td>\n",
       "    </tr>\n",
       "    <tr>\n",
       "      <th>9</th>\n",
       "      <td>9</td>\n",
       "      <td>156066.0</td>\n",
       "      <td>331904.0</td>\n",
       "      <td>2017-01-19 21:15:34</td>\n",
       "      <td>withdrawal</td>\n",
       "      <td>atm</td>\n",
       "      <td>20.00</td>\n",
       "      <td>NaN</td>\n",
       "      <td>NaN</td>\n",
       "    </tr>\n",
       "    <tr>\n",
       "      <th>10</th>\n",
       "      <td>10</td>\n",
       "      <td>127322.0</td>\n",
       "      <td>270818.0</td>\n",
       "      <td>2017-01-03 22:00:38</td>\n",
       "      <td>electronic transfer</td>\n",
       "      <td>ach credit</td>\n",
       "      <td>40.69</td>\n",
       "      <td>168415.0</td>\n",
       "      <td>358192.0</td>\n",
       "    </tr>\n",
       "    <tr>\n",
       "      <th>11</th>\n",
       "      <td>11</td>\n",
       "      <td>162458.0</td>\n",
       "      <td>345502.0</td>\n",
       "      <td>2017-01-23 06:55:02</td>\n",
       "      <td>withdrawal</td>\n",
       "      <td>atm</td>\n",
       "      <td>20.01</td>\n",
       "      <td>NaN</td>\n",
       "      <td>NaN</td>\n",
       "    </tr>\n",
       "    <tr>\n",
       "      <th>12</th>\n",
       "      <td>12</td>\n",
       "      <td>53897.0</td>\n",
       "      <td>114499.0</td>\n",
       "      <td>2017-01-08 02:47:42</td>\n",
       "      <td>paper transfer</td>\n",
       "      <td>teller</td>\n",
       "      <td>2194.34</td>\n",
       "      <td>78477.0</td>\n",
       "      <td>166721.0</td>\n",
       "    </tr>\n",
       "    <tr>\n",
       "      <th>13</th>\n",
       "      <td>13</td>\n",
       "      <td>45405.0</td>\n",
       "      <td>96374.0</td>\n",
       "      <td>2017-01-22 18:12:44</td>\n",
       "      <td>withdrawal</td>\n",
       "      <td>atm</td>\n",
       "      <td>20.01</td>\n",
       "      <td>NaN</td>\n",
       "      <td>NaN</td>\n",
       "    </tr>\n",
       "    <tr>\n",
       "      <th>14</th>\n",
       "      <td>14</td>\n",
       "      <td>120348.0</td>\n",
       "      <td>255873.0</td>\n",
       "      <td>2017-01-14 17:43:56</td>\n",
       "      <td>withdrawal</td>\n",
       "      <td>atm</td>\n",
       "      <td>20.00</td>\n",
       "      <td>NaN</td>\n",
       "      <td>NaN</td>\n",
       "    </tr>\n",
       "    <tr>\n",
       "      <th>15</th>\n",
       "      <td>15</td>\n",
       "      <td>90233.0</td>\n",
       "      <td>191744.0</td>\n",
       "      <td>2017-01-23 09:33:02</td>\n",
       "      <td>pos</td>\n",
       "      <td>merchant location</td>\n",
       "      <td>86.24</td>\n",
       "      <td>NaN</td>\n",
       "      <td>NaN</td>\n",
       "    </tr>\n",
       "    <tr>\n",
       "      <th>16</th>\n",
       "      <td>16</td>\n",
       "      <td>78787.0</td>\n",
       "      <td>167394.0</td>\n",
       "      <td>2017-01-12 03:25:36</td>\n",
       "      <td>withdrawal</td>\n",
       "      <td>atm</td>\n",
       "      <td>20.01</td>\n",
       "      <td>NaN</td>\n",
       "      <td>NaN</td>\n",
       "    </tr>\n",
       "    <tr>\n",
       "      <th>17</th>\n",
       "      <td>17</td>\n",
       "      <td>131196.0</td>\n",
       "      <td>279078.0</td>\n",
       "      <td>2017-01-29 01:17:09</td>\n",
       "      <td>charge</td>\n",
       "      <td>online</td>\n",
       "      <td>515.08</td>\n",
       "      <td>NaN</td>\n",
       "      <td>NaN</td>\n",
       "    </tr>\n",
       "    <tr>\n",
       "      <th>18</th>\n",
       "      <td>18</td>\n",
       "      <td>123430.0</td>\n",
       "      <td>262489.0</td>\n",
       "      <td>2017-01-05 05:10:08</td>\n",
       "      <td>withdrawal</td>\n",
       "      <td>atm</td>\n",
       "      <td>20.00</td>\n",
       "      <td>NaN</td>\n",
       "      <td>NaN</td>\n",
       "    </tr>\n",
       "    <tr>\n",
       "      <th>19</th>\n",
       "      <td>19</td>\n",
       "      <td>70039.0</td>\n",
       "      <td>148567.0</td>\n",
       "      <td>2017-01-26 05:25:04</td>\n",
       "      <td>electronic transfer</td>\n",
       "      <td>ach credit</td>\n",
       "      <td>31.82</td>\n",
       "      <td>136501.0</td>\n",
       "      <td>290338.0</td>\n",
       "    </tr>\n",
       "  </tbody>\n",
       "</table>\n",
       "</div>"
      ],
      "text/plain": [
       "    TRANSACTION_ID  ORIGIN_CUSTOMER_ID  ORIGIN_ACCOUNT_ID  \\\n",
       "0                0            202950.0           431495.0   \n",
       "1                1            167227.0           355712.0   \n",
       "2                2             50445.0           107161.0   \n",
       "3                3            102321.0           217511.0   \n",
       "4                4            219263.0           466263.0   \n",
       "5                5             23020.0            49038.0   \n",
       "6                6             67442.0           143094.0   \n",
       "7                7             83147.0           176668.0   \n",
       "8                8             80955.0           172073.0   \n",
       "9                9            156066.0           331904.0   \n",
       "10              10            127322.0           270818.0   \n",
       "11              11            162458.0           345502.0   \n",
       "12              12             53897.0           114499.0   \n",
       "13              13             45405.0            96374.0   \n",
       "14              14            120348.0           255873.0   \n",
       "15              15             90233.0           191744.0   \n",
       "16              16             78787.0           167394.0   \n",
       "17              17            131196.0           279078.0   \n",
       "18              18            123430.0           262489.0   \n",
       "19              19             70039.0           148567.0   \n",
       "\n",
       "   TRANSACTION_DATE_TIME     TRANSACTION_TYPE TRANSACTION_SOURCE  \\\n",
       "0    2017-01-10 19:21:37               charge             online   \n",
       "1    2017-01-05 12:56:57           withdrawal                atm   \n",
       "2    2017-01-05 21:08:46               charge             online   \n",
       "3    2017-01-09 02:30:10  electronic transfer          ach debit   \n",
       "4    2017-01-26 04:12:36                  pos  merchant location   \n",
       "5    2017-01-19 17:22:42               charge             online   \n",
       "6    2017-01-02 00:37:05  electronic transfer         ach credit   \n",
       "7    2017-01-28 03:44:26  electronic transfer         ach credit   \n",
       "8    2017-01-14 15:49:03           withdrawal             teller   \n",
       "9    2017-01-19 21:15:34           withdrawal                atm   \n",
       "10   2017-01-03 22:00:38  electronic transfer         ach credit   \n",
       "11   2017-01-23 06:55:02           withdrawal                atm   \n",
       "12   2017-01-08 02:47:42       paper transfer             teller   \n",
       "13   2017-01-22 18:12:44           withdrawal                atm   \n",
       "14   2017-01-14 17:43:56           withdrawal                atm   \n",
       "15   2017-01-23 09:33:02                  pos  merchant location   \n",
       "16   2017-01-12 03:25:36           withdrawal                atm   \n",
       "17   2017-01-29 01:17:09               charge             online   \n",
       "18   2017-01-05 05:10:08           withdrawal                atm   \n",
       "19   2017-01-26 05:25:04  electronic transfer         ach credit   \n",
       "\n",
       "    TRANSACTION_AMOUNT  BENEFICIARY_CUSTOMER_ID  BENEFICIARY_ACCOUNT_ID  \n",
       "0               508.93                      NaN                     NaN  \n",
       "1                20.04                      NaN                     NaN  \n",
       "2                79.50                      NaN                     NaN  \n",
       "3               138.39                   1083.0                  2287.0  \n",
       "4               695.75                      NaN                     NaN  \n",
       "5                31.72                      NaN                     NaN  \n",
       "6              5233.86                  51373.0                109115.0  \n",
       "7               509.60                 169169.0                359765.0  \n",
       "8                20.01                      NaN                     NaN  \n",
       "9                20.00                      NaN                     NaN  \n",
       "10               40.69                 168415.0                358192.0  \n",
       "11               20.01                      NaN                     NaN  \n",
       "12             2194.34                  78477.0                166721.0  \n",
       "13               20.01                      NaN                     NaN  \n",
       "14               20.00                      NaN                     NaN  \n",
       "15               86.24                      NaN                     NaN  \n",
       "16               20.01                      NaN                     NaN  \n",
       "17              515.08                      NaN                     NaN  \n",
       "18               20.00                      NaN                     NaN  \n",
       "19               31.82                 136501.0                290338.0  "
      ]
     },
     "execution_count": 12,
     "metadata": {},
     "output_type": "execute_result"
    }
   ],
   "source": [
    "transactions.head(20)"
   ]
  },
  {
   "cell_type": "code",
   "execution_count": 9,
   "metadata": {},
   "outputs": [
    {
     "data": {
      "text/plain": [
       "<matplotlib.axes._subplots.AxesSubplot at 0x1eb1ee96908>"
      ]
     },
     "execution_count": 9,
     "metadata": {},
     "output_type": "execute_result"
    },
    {
     "data": {
      "image/png": "[encoded data removed]",
      "text/plain": [
       "<matplotlib.figure.Figure at 0x1eb96736b38>"
      ]
     },
     "metadata": {},
     "output_type": "display_data"
    }
   ],
   "source": [
    "transactions.plot('TRANSACTION_DATE_TIME', 'TRANSACTION_AMOUNT')"
   ]
  },
  {
   "cell_type": "code",
   "execution_count": 22,
   "metadata": {
    "collapsed": true
   },
   "outputs": [],
   "source": [
    "tran_amt = transactions[['TRANSACTION_DATE_TIME', 'TRANSACTION_AMOUNT']]"
   ]
  },
  {
   "cell_type": "code",
   "execution_count": null,
   "metadata": {},
   "outputs": [],
   "source": [
    "tran_amt['Label'] = pd.Series(labels['Class'])"
   ]
  },
  {
   "cell_type": "code",
   "execution_count": null,
   "metadata": {},
   "outputs": [],
   "source": [
    "tran_amt.sort_values('TRANSACTION_DATE_TIME', inplace=True)"
   ]
  },
  {
   "cell_type": "code",
   "execution_count": 20,
   "metadata": {},
   "outputs": [
    {
     "data": {
      "text/plain": [
       "<matplotlib.axes._subplots.AxesSubplot at 0x1eb1ef8b710>"
      ]
     },
     "execution_count": 20,
     "metadata": {},
     "output_type": "execute_result"
    },
    {
     "data": {
      "image/png": "[encoded data removed]",
      "text/plain": [
       "<matplotlib.figure.Figure at 0x1eb1f4c0a90>"
      ]
     },
     "metadata": {},
     "output_type": "display_data"
    }
   ],
   "source": [
    "tran_amt.plot('TRANSACTION_DATE_TIME', 'TRANSACTION_AMOUNT', figsize=(6, 4))"
   ]
  },
  {
   "cell_type": "code",
   "execution_count": null,
   "metadata": {
    "collapsed": true
   },
   "outputs": [],
   "source": [
    "groups = tran_amt.groupby('Label')\n",
    "fig, ax = plt.subplots()\n",
    "\n",
    "for name, group in groups:\n",
    "    ax.plot(group.TRANSACTION_DATE_TIME, group.TRANSACTION_AMOUNT, marker='o', ms=3.5, linestyle='',\n",
    "            label= \"Minor\" if name == 1 else \"Normal\")\n",
    "ax.hlines(threshold, ax.get_xlim()[0], ax.get_xlim()[1], colors=\"r\", zorder=100, label='Threshold')\n",
    "ax.legend()\n",
    "plt.title(\"Time series for different classes\")\n",
    "plt.ylabel(\"Transaction amount\")\n",
    "plt.xlabel(\"Time index\")\n",
    "plt.show();"
   ]
  }
 ],
 "metadata": {
  "kernelspec": {
   "display_name": "Python 3",
   "language": "python",
   "name": "python3"
  },
  "language_info": {
   "codemirror_mode": {
    "name": "ipython",
    "version": 3
   },
   "file_extension": ".py",
   "mimetype": "text/x-python",
   "name": "python",
   "nbconvert_exporter": "python",
   "pygments_lexer": "ipython3",
   "version": "3.6.3"
  }
 },
 "nbformat": 4,
 "nbformat_minor": 2
}
