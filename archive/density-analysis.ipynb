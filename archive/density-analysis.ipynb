{
 "cells": [
  {
   "cell_type": "code",
   "execution_count": 1,
   "metadata": {},
   "outputs": [
    {
     "name": "stdout",
     "output_type": "stream",
     "text": [
      "Populating the interactive namespace from numpy and matplotlib\n"
     ]
    }
   ],
   "source": [
    "import pandas as pd\n",
    "import matplotlib\n",
    "import matplotlib.pyplot as plt\n",
    "import seaborn as sns\n",
    "import numpy as np\n",
    "%pylab inline\n",
    "\n",
    "account_filename = 'data/accountData.csv'\n",
    "customer_filename = 'data/customerData.csv'\n",
    "transaction_filename = 'data/transactions_small_1p.csv'\n",
    "sanctions_filename = 'data/ctry_sanctions_list.csv'"
   ]
  },
  {
   "cell_type": "code",
   "execution_count": 2,
   "metadata": {
    "collapsed": true
   },
   "outputs": [],
   "source": [
    "accounts = pd.read_csv(account_filename)\n",
    "customers = pd.read_csv(customer_filename)\n",
    "sanctions = pd.read_csv(sanctions_filename)"
   ]
  },
  {
   "cell_type": "code",
   "execution_count": 3,
   "metadata": {
    "collapsed": true
   },
   "outputs": [],
   "source": [
    "transactions = pd.read_csv(transaction_filename)"
   ]
  },
  {
   "cell_type": "markdown",
   "metadata": {},
   "source": [
    "# Merge all three files"
   ]
  },
  {
   "cell_type": "code",
   "execution_count": 4,
   "metadata": {},
   "outputs": [],
   "source": [
    "del transactions['Unnamed: 0']"
   ]
  },
  {
   "cell_type": "code",
   "execution_count": 5,
   "metadata": {},
   "outputs": [
    {
     "data": {
      "text/plain": [
       "Index(['TRANSACTION_ID', 'ORIGIN_CUSTOMER_ID', 'ORIGIN_ACCOUNT_ID',\n",
       "       'TRANSACTION_DATE_TIME', 'TRANSACTION_TYPE', 'TRANSACTION_SOURCE',\n",
       "       'TRANSACTION_AMOUNT', 'BENEFICIARY_CUSTOMER_ID',\n",
       "       'BENEFICIARY_ACCOUNT_ID', 'Label'],\n",
       "      dtype='object')"
      ]
     },
     "execution_count": 5,
     "metadata": {},
     "output_type": "execute_result"
    }
   ],
   "source": [
    "transactions.columns"
   ]
  },
  {
   "cell_type": "code",
   "execution_count": 6,
   "metadata": {},
   "outputs": [
    {
     "data": {
      "text/plain": [
       "<matplotlib.axes._subplots.AxesSubplot at 0x2af3743ab38>"
      ]
     },
     "execution_count": 6,
     "metadata": {},
     "output_type": "execute_result"
    },
    {
     "data": {
      "image/png": "[encoded data removed]",
      "text/plain": [
       "<matplotlib.figure.Figure at 0x2af3743a2e8>"
      ]
     },
     "metadata": {},
     "output_type": "display_data"
    }
   ],
   "source": [
    "transactions['TRANSACTION_TYPE'].hist()"
   ]
  },
  {
   "cell_type": "code",
   "execution_count": 7,
   "metadata": {},
   "outputs": [],
   "source": [
    "# if customer, account id is NaN, then use beneficial ids"
   ]
  },
  {
   "cell_type": "code",
   "execution_count": 8,
   "metadata": {
    "collapsed": true
   },
   "outputs": [],
   "source": [
    "del transactions['BENEFICIARY_CUSTOMER_ID']\n",
    "del transactions['BENEFICIARY_ACCOUNT_ID']"
   ]
  },
  {
   "cell_type": "code",
   "execution_count": 9,
   "metadata": {},
   "outputs": [],
   "source": [
    "transactions.dropna(inplace=True)"
   ]
  },
  {
   "cell_type": "code",
   "execution_count": 10,
   "metadata": {},
   "outputs": [],
   "source": [
    "transactions = transactions.merge(customers, left_on = 'ORIGIN_CUSTOMER_ID', right_on = 'CUSTOMER_ID')"
   ]
  },
  {
   "cell_type": "code",
   "execution_count": 11,
   "metadata": {},
   "outputs": [
    {
     "data": {
      "text/html": [
       "<div>\n",
       "<style>\n",
       "    .dataframe thead tr:only-child th {\n",
       "        text-align: right;\n",
       "    }\n",
       "\n",
       "    .dataframe thead th {\n",
       "        text-align: left;\n",
       "    }\n",
       "\n",
       "    .dataframe tbody tr th {\n",
       "        vertical-align: top;\n",
       "    }\n",
       "</style>\n",
       "<table border=\"1\" class=\"dataframe\">\n",
       "  <thead>\n",
       "    <tr style=\"text-align: right;\">\n",
       "      <th></th>\n",
       "      <th>ACCOUNT_ID</th>\n",
       "      <th>CUSTOMER_ID</th>\n",
       "      <th>ACCOUNT_DATE_TIME</th>\n",
       "      <th>ACCOUNT_TYPE</th>\n",
       "      <th>ACCOUNT_BALANCE</th>\n",
       "    </tr>\n",
       "  </thead>\n",
       "  <tbody>\n",
       "    <tr>\n",
       "      <th>0</th>\n",
       "      <td>0</td>\n",
       "      <td>0</td>\n",
       "      <td>2016-05-02 03:04:27</td>\n",
       "      <td>basic checkings account</td>\n",
       "      <td>2940588.03</td>\n",
       "    </tr>\n",
       "  </tbody>\n",
       "</table>\n",
       "</div>"
      ],
      "text/plain": [
       "   ACCOUNT_ID  CUSTOMER_ID    ACCOUNT_DATE_TIME             ACCOUNT_TYPE  \\\n",
       "0           0            0  2016-05-02 03:04:27  basic checkings account   \n",
       "\n",
       "   ACCOUNT_BALANCE  \n",
       "0       2940588.03  "
      ]
     },
     "execution_count": 11,
     "metadata": {},
     "output_type": "execute_result"
    }
   ],
   "source": [
    "accounts.head(1)"
   ]
  },
  {
   "cell_type": "code",
   "execution_count": 12,
   "metadata": {
    "collapsed": true
   },
   "outputs": [],
   "source": [
    "transactions = transactions.merge(accounts, left_on = 'ORIGIN_ACCOUNT_ID', right_on = 'ACCOUNT_ID')"
   ]
  },
  {
   "cell_type": "code",
   "execution_count": 13,
   "metadata": {},
   "outputs": [
    {
     "data": {
      "text/plain": [
       "Index(['TRANSACTION_ID', 'ORIGIN_CUSTOMER_ID', 'ORIGIN_ACCOUNT_ID',\n",
       "       'TRANSACTION_DATE_TIME', 'TRANSACTION_TYPE', 'TRANSACTION_SOURCE',\n",
       "       'TRANSACTION_AMOUNT', 'Label', 'CUSTOMER_ID_x', 'CUSTOMER_TYPE',\n",
       "       'COUNTRY', 'CUSTOMER_RISK_SCORE', 'ACCOUNT_ID', 'CUSTOMER_ID_y',\n",
       "       'ACCOUNT_DATE_TIME', 'ACCOUNT_TYPE', 'ACCOUNT_BALANCE'],\n",
       "      dtype='object')"
      ]
     },
     "execution_count": 13,
     "metadata": {},
     "output_type": "execute_result"
    }
   ],
   "source": [
    "transactions.columns"
   ]
  },
  {
   "cell_type": "code",
   "execution_count": 14,
   "metadata": {},
   "outputs": [],
   "source": [
    "transactions.drop(['TRANSACTION_ID', \n",
    "                   'ORIGIN_CUSTOMER_ID',\n",
    "                   'ORIGIN_ACCOUNT_ID',\n",
    "                   'TRANSACTION_DATE_TIME',\n",
    "                   'CUSTOMER_ID_x',\n",
    "                   'ACCOUNT_ID',\n",
    "                   'CUSTOMER_ID_y',\n",
    "                   'ACCOUNT_DATE_TIME'], axis = 1, inplace=True)"
   ]
  },
  {
   "cell_type": "code",
   "execution_count": 15,
   "metadata": {},
   "outputs": [
    {
     "data": {
      "text/plain": [
       "Index(['TRANSACTION_TYPE', 'TRANSACTION_SOURCE', 'TRANSACTION_AMOUNT', 'Label',\n",
       "       'CUSTOMER_TYPE', 'COUNTRY', 'CUSTOMER_RISK_SCORE', 'ACCOUNT_TYPE',\n",
       "       'ACCOUNT_BALANCE'],\n",
       "      dtype='object')"
      ]
     },
     "execution_count": 15,
     "metadata": {},
     "output_type": "execute_result"
    }
   ],
   "source": [
    "transactions.columns"
   ]
  },
  {
   "cell_type": "code",
   "execution_count": 16,
   "metadata": {},
   "outputs": [],
   "source": [
    "categorical_features = ['TRANSACTION_TYPE', \n",
    "                        'TRANSACTION_SOURCE',\n",
    "                        'CUSTOMER_TYPE', \n",
    "                        'COUNTRY',\n",
    "                        'ACCOUNT_TYPE']"
   ]
  },
  {
   "cell_type": "code",
   "execution_count": 17,
   "metadata": {},
   "outputs": [],
   "source": [
    "for feature in categorical_features:\n",
    "    transactions[feature] = transactions[feature].astype('category')"
   ]
  },
  {
   "cell_type": "code",
   "execution_count": 18,
   "metadata": {
    "collapsed": true
   },
   "outputs": [],
   "source": [
    "skewed_numerical_features = ['TRANSACTION_AMOUNT',\n",
    "                             'ACCOUNT_BALANCE']"
   ]
  },
  {
   "cell_type": "code",
   "execution_count": 19,
   "metadata": {},
   "outputs": [],
   "source": [
    "transactions[skewed_numerical_features] = transactions[skewed_numerical_features].apply(lambda x: np.log(x + 1))"
   ]
  },
  {
   "cell_type": "code",
   "execution_count": 20,
   "metadata": {
    "collapsed": true
   },
   "outputs": [],
   "source": [
    "from sklearn.preprocessing import MinMaxScaler\n",
    "scaler = MinMaxScaler()\n",
    "numerical_features = ['TRANSACTION_AMOUNT',\n",
    "                      'CUSTOMER_RISK_SCORE',\n",
    "                      'ACCOUNT_BALANCE']\n",
    "transactions[numerical_features] = scaler.fit_transform(transactions[numerical_features])"
   ]
  },
  {
   "cell_type": "code",
   "execution_count": 21,
   "metadata": {},
   "outputs": [],
   "source": [
    "sanctions_list = list(sanctions['Sanctions, Countries'])"
   ]
  },
  {
   "cell_type": "code",
   "execution_count": 22,
   "metadata": {},
   "outputs": [],
   "source": [
    "transactions['Sanction'] = (transactions['COUNTRY'].apply(lambda ctry: ctry in sanctions_list)).astype(int)"
   ]
  },
  {
   "cell_type": "code",
   "execution_count": 23,
   "metadata": {},
   "outputs": [],
   "source": [
    "del transactions['COUNTRY']"
   ]
  },
  {
   "cell_type": "code",
   "execution_count": 24,
   "metadata": {},
   "outputs": [
    {
     "data": {
      "text/plain": [
       "Index(['TRANSACTION_TYPE', 'TRANSACTION_SOURCE', 'TRANSACTION_AMOUNT', 'Label',\n",
       "       'CUSTOMER_TYPE', 'CUSTOMER_RISK_SCORE', 'ACCOUNT_TYPE',\n",
       "       'ACCOUNT_BALANCE', 'Sanction'],\n",
       "      dtype='object')"
      ]
     },
     "execution_count": 24,
     "metadata": {},
     "output_type": "execute_result"
    }
   ],
   "source": [
    "transactions.columns"
   ]
  },
  {
   "cell_type": "code",
   "execution_count": 25,
   "metadata": {
    "collapsed": true
   },
   "outputs": [],
   "source": [
    "transactions = pd.get_dummies(transactions)"
   ]
  },
  {
   "cell_type": "code",
   "execution_count": 26,
   "metadata": {},
   "outputs": [
    {
     "data": {
      "text/plain": [
       "22"
      ]
     },
     "execution_count": 26,
     "metadata": {},
     "output_type": "execute_result"
    }
   ],
   "source": [
    "len(transactions.columns)"
   ]
  },
  {
   "cell_type": "code",
   "execution_count": 27,
   "metadata": {
    "collapsed": true
   },
   "outputs": [],
   "source": [
    "labels = transactions['Label']"
   ]
  },
  {
   "cell_type": "code",
   "execution_count": 28,
   "metadata": {
    "collapsed": true
   },
   "outputs": [],
   "source": [
    "transactions.to_csv('data/transactions_small_1p_all_features.csv')"
   ]
  },
  {
   "cell_type": "markdown",
   "metadata": {},
   "source": [
    "# Data Exploration"
   ]
  },
  {
   "cell_type": "code",
   "execution_count": 29,
   "metadata": {},
   "outputs": [
    {
     "data": {
      "text/plain": [
       "Index(['TRANSACTION_AMOUNT', 'Label', 'CUSTOMER_RISK_SCORE', 'ACCOUNT_BALANCE',\n",
       "       'Sanction', 'TRANSACTION_TYPE_charge',\n",
       "       'TRANSACTION_TYPE_electronic transfer',\n",
       "       'TRANSACTION_TYPE_paper transfer', 'TRANSACTION_TYPE_pos',\n",
       "       'TRANSACTION_TYPE_withdrawal', 'TRANSACTION_SOURCE_ach credit',\n",
       "       'TRANSACTION_SOURCE_ach debit', 'TRANSACTION_SOURCE_atm',\n",
       "       'TRANSACTION_SOURCE_merchant location', 'TRANSACTION_SOURCE_online',\n",
       "       'TRANSACTION_SOURCE_p2p', 'TRANSACTION_SOURCE_swift',\n",
       "       'TRANSACTION_SOURCE_teller', 'CUSTOMER_TYPE_Business',\n",
       "       'CUSTOMER_TYPE_Individual', 'ACCOUNT_TYPE_basic checkings account',\n",
       "       'ACCOUNT_TYPE_interest checking account'],\n",
       "      dtype='object')"
      ]
     },
     "execution_count": 29,
     "metadata": {},
     "output_type": "execute_result"
    }
   ],
   "source": [
    "transactions.columns"
   ]
  },
  {
   "cell_type": "code",
   "execution_count": 30,
   "metadata": {},
   "outputs": [],
   "source": [
    "small_set = transactions.sample(frac=0.1)"
   ]
  },
  {
   "cell_type": "code",
   "execution_count": 31,
   "metadata": {},
   "outputs": [],
   "source": [
    "corrs = small_set.corr()"
   ]
  },
  {
   "cell_type": "code",
   "execution_count": 32,
   "metadata": {},
   "outputs": [
    {
     "name": "stdout",
     "output_type": "stream",
     "text": [
      "['TRANSACTION_AMOUNT', 'Label', 'CUSTOMER_RISK_SCORE', 'ACCOUNT_BALANCE', 'Sanction', 'TRANSACTION_TYPE_charge', 'TRANSACTION_TYPE_pos', 'TRANSACTION_SOURCE_merchant location', 'TRANSACTION_SOURCE_online', 'CUSTOMER_TYPE_Individual', 'ACCOUNT_TYPE_basic checkings account']\n"
     ]
    }
   ],
   "source": [
    "#pd.plotting.scatter_matrix(small_set, alpha = 0.3, figsize = (14,8), diagonal = 'kde');\n",
    "corrs.sort_values('Label', ascending = False);\n",
    "reduced_features = list(corrs[corrs['Label'] > 0].index)\n",
    "print(reduced_features)"
   ]
  },
  {
   "cell_type": "code",
   "execution_count": 33,
   "metadata": {},
   "outputs": [
    {
     "name": "stdout",
     "output_type": "stream",
     "text": [
      "22\n",
      "['TRANSACTION_AMOUNT', 'Label', 'CUSTOMER_RISK_SCORE', 'ACCOUNT_BALANCE', 'Sanction', 'TRANSACTION_TYPE_charge', 'TRANSACTION_TYPE_electronic transfer', 'TRANSACTION_TYPE_paper transfer', 'TRANSACTION_TYPE_pos', 'TRANSACTION_TYPE_withdrawal', 'TRANSACTION_SOURCE_ach credit', 'TRANSACTION_SOURCE_ach debit', 'TRANSACTION_SOURCE_atm', 'TRANSACTION_SOURCE_merchant location', 'TRANSACTION_SOURCE_online', 'TRANSACTION_SOURCE_p2p', 'TRANSACTION_SOURCE_swift', 'TRANSACTION_SOURCE_teller', 'CUSTOMER_TYPE_Business', 'CUSTOMER_TYPE_Individual', 'ACCOUNT_TYPE_basic checkings account', 'ACCOUNT_TYPE_interest checking account']\n",
      "TRANSACTION_TYPE_pos\n"
     ]
    }
   ],
   "source": [
    "print(len(list(transactions.columns)))\n",
    "print(list(transactions.columns))\n",
    "feature = list(transactions.columns)[8]\n",
    "print(feature)"
   ]
  },
  {
   "cell_type": "code",
   "execution_count": 34,
   "metadata": {},
   "outputs": [
    {
     "data": {
      "image/png": "[encoded data removed]",
      "text/plain": [
       "<matplotlib.figure.Figure at 0x2af3bc84f98>"
      ]
     },
     "metadata": {},
     "output_type": "display_data"
    }
   ],
   "source": [
    "# transactions.groupby('Label')[feature].hist();\n",
    "transactions.hist(feature, by='Label');"
   ]
  },
  {
   "cell_type": "code",
   "execution_count": 35,
   "metadata": {},
   "outputs": [],
   "source": [
    "transactions = transactions[reduced_features]"
   ]
  },
  {
   "cell_type": "code",
   "execution_count": 36,
   "metadata": {},
   "outputs": [
    {
     "data": {
      "text/html": [
       "<div>\n",
       "<style>\n",
       "    .dataframe thead tr:only-child th {\n",
       "        text-align: right;\n",
       "    }\n",
       "\n",
       "    .dataframe thead th {\n",
       "        text-align: left;\n",
       "    }\n",
       "\n",
       "    .dataframe tbody tr th {\n",
       "        vertical-align: top;\n",
       "    }\n",
       "</style>\n",
       "<table border=\"1\" class=\"dataframe\">\n",
       "  <thead>\n",
       "    <tr style=\"text-align: right;\">\n",
       "      <th></th>\n",
       "      <th>TRANSACTION_AMOUNT</th>\n",
       "      <th>Label</th>\n",
       "      <th>CUSTOMER_RISK_SCORE</th>\n",
       "      <th>ACCOUNT_BALANCE</th>\n",
       "      <th>Sanction</th>\n",
       "      <th>TRANSACTION_TYPE_charge</th>\n",
       "      <th>TRANSACTION_TYPE_pos</th>\n",
       "      <th>TRANSACTION_SOURCE_merchant location</th>\n",
       "      <th>TRANSACTION_SOURCE_online</th>\n",
       "      <th>CUSTOMER_TYPE_Individual</th>\n",
       "      <th>ACCOUNT_TYPE_basic checkings account</th>\n",
       "    </tr>\n",
       "  </thead>\n",
       "  <tbody>\n",
       "    <tr>\n",
       "      <th>0</th>\n",
       "      <td>0.065694</td>\n",
       "      <td>0</td>\n",
       "      <td>0.209302</td>\n",
       "      <td>0.918079</td>\n",
       "      <td>0</td>\n",
       "      <td>0</td>\n",
       "      <td>1</td>\n",
       "      <td>1</td>\n",
       "      <td>0</td>\n",
       "      <td>1</td>\n",
       "      <td>1</td>\n",
       "    </tr>\n",
       "  </tbody>\n",
       "</table>\n",
       "</div>"
      ],
      "text/plain": [
       "   TRANSACTION_AMOUNT  Label  CUSTOMER_RISK_SCORE  ACCOUNT_BALANCE  Sanction  \\\n",
       "0            0.065694      0             0.209302         0.918079         0   \n",
       "\n",
       "   TRANSACTION_TYPE_charge  TRANSACTION_TYPE_pos  \\\n",
       "0                        0                     1   \n",
       "\n",
       "   TRANSACTION_SOURCE_merchant location  TRANSACTION_SOURCE_online  \\\n",
       "0                                     1                          0   \n",
       "\n",
       "   CUSTOMER_TYPE_Individual  ACCOUNT_TYPE_basic checkings account  \n",
       "0                         1                                     1  "
      ]
     },
     "execution_count": 36,
     "metadata": {},
     "output_type": "execute_result"
    }
   ],
   "source": [
    "transactions.head(1)"
   ]
  },
  {
   "cell_type": "code",
   "execution_count": 37,
   "metadata": {
    "collapsed": true
   },
   "outputs": [],
   "source": [
    "transactions.to_csv('data/reduced_transactions_1p.csv')"
   ]
  },
  {
   "cell_type": "markdown",
   "metadata": {},
   "source": [
    "# Gaussian Mixture"
   ]
  },
  {
   "cell_type": "code",
   "execution_count": 38,
   "metadata": {
    "collapsed": true
   },
   "outputs": [],
   "source": [
    "import numpy as np\n",
    "import pandas as pd\n",
    "from IPython.display import display # Allows the use of display() for DataFrames\n",
    "\n",
    "# Import supplementary visualizations code visuals.py\n",
    "import visuals as vs\n",
    "\n",
    "# Pretty display for notebooks\n",
    "%matplotlib inline"
   ]
  },
  {
   "cell_type": "code",
   "execution_count": 39,
   "metadata": {
    "collapsed": true
   },
   "outputs": [],
   "source": [
    "from sklearn.mixture import GaussianMixture\n",
    "\n",
    "clusterer = GaussianMixture(n_components=1).fit(transactions)\n",
    "\n",
    "preds = clusterer.predict(transactions)\n",
    "\n",
    "centers = clusterer.means_"
   ]
  },
  {
   "cell_type": "code",
   "execution_count": 41,
   "metadata": {},
   "outputs": [
    {
     "data": {
      "text/plain": [
       "0"
      ]
     },
     "execution_count": 41,
     "metadata": {},
     "output_type": "execute_result"
    }
   ],
   "source": []
  },
  {
   "cell_type": "code",
   "execution_count": null,
   "metadata": {
    "collapsed": true
   },
   "outputs": [],
   "source": []
  }
 ],
 "metadata": {
  "kernelspec": {
   "display_name": "Python 3",
   "language": "python",
   "name": "python3"
  },
  "language_info": {
   "codemirror_mode": {
    "name": "ipython",
    "version": 3
   },
   "file_extension": ".py",
   "mimetype": "text/x-python",
   "name": "python",
   "nbconvert_exporter": "python",
   "pygments_lexer": "ipython3",
   "version": "3.6.3"
  }
 },
 "nbformat": 4,
 "nbformat_minor": 2
}
